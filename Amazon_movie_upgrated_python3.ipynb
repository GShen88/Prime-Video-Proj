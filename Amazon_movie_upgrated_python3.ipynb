{
 "cells": [
  {
   "cell_type": "code",
   "execution_count": 1,
   "metadata": {},
   "outputs": [],
   "source": [
    "# load packages\n",
    "\n",
    "%matplotlib inline\n",
    "import numpy as np\n",
    "import scipy\n",
    "import pandas as pd\n",
    "import matplotlib.pyplot as plt\n",
    "import statsmodels.formula.api as sm\n",
    "import seaborn as sns\n",
    "import sklearn as sl\n",
    "from sklearn import preprocessing\n",
    "pd.set_option('display.float_format', lambda x: '%.3f' % x)"
   ]
  },
  {
   "cell_type": "markdown",
   "metadata": {},
   "source": [
    "# Pre Load data"
   ]
  },
  {
   "cell_type": "markdown",
   "metadata": {},
   "source": [
    "'Video_id' is defined as the index of each sample. 'cvt_per_day' is the metric, the rest of 14 columns are all characteristic features (numeric & categorical) of each video."
   ]
  },
  {
   "cell_type": "code",
   "execution_count": 4,
   "metadata": {},
   "outputs": [
    {
     "data": {
      "text/html": [
       "<div>\n",
       "<style scoped>\n",
       "    .dataframe tbody tr th:only-of-type {\n",
       "        vertical-align: middle;\n",
       "    }\n",
       "\n",
       "    .dataframe tbody tr th {\n",
       "        vertical-align: top;\n",
       "    }\n",
       "\n",
       "    .dataframe thead th {\n",
       "        text-align: right;\n",
       "    }\n",
       "</style>\n",
       "<table border=\"1\" class=\"dataframe\">\n",
       "  <thead>\n",
       "    <tr style=\"text-align: right;\">\n",
       "      <th></th>\n",
       "      <th>video_id</th>\n",
       "      <th>cvt_per_day</th>\n",
       "      <th>weighted_categorical_position</th>\n",
       "      <th>weighted_horizontal_poition</th>\n",
       "      <th>import_id</th>\n",
       "      <th>release_year</th>\n",
       "      <th>genres</th>\n",
       "      <th>imdb_votes</th>\n",
       "      <th>budget</th>\n",
       "      <th>boxoffice</th>\n",
       "      <th>imdb_rating</th>\n",
       "      <th>duration_in_mins</th>\n",
       "      <th>metacritic_score</th>\n",
       "      <th>awards</th>\n",
       "      <th>mpaa</th>\n",
       "      <th>star_category</th>\n",
       "    </tr>\n",
       "  </thead>\n",
       "  <tbody>\n",
       "    <tr>\n",
       "      <th>0</th>\n",
       "      <td>385504</td>\n",
       "      <td>307127.606</td>\n",
       "      <td>1</td>\n",
       "      <td>3</td>\n",
       "      <td>lionsgate</td>\n",
       "      <td>2013</td>\n",
       "      <td>Action,Thriller,Drama</td>\n",
       "      <td>69614</td>\n",
       "      <td>15000000</td>\n",
       "      <td>42930462</td>\n",
       "      <td>6.500</td>\n",
       "      <td>112.301</td>\n",
       "      <td>51</td>\n",
       "      <td>other award</td>\n",
       "      <td>PG-13</td>\n",
       "      <td>1.710</td>\n",
       "    </tr>\n",
       "    <tr>\n",
       "      <th>1</th>\n",
       "      <td>300175</td>\n",
       "      <td>270338.426</td>\n",
       "      <td>1</td>\n",
       "      <td>3</td>\n",
       "      <td>lionsgate</td>\n",
       "      <td>2013</td>\n",
       "      <td>Comedy,Crime,Thriller</td>\n",
       "      <td>46705</td>\n",
       "      <td>15000000</td>\n",
       "      <td>3301046</td>\n",
       "      <td>6.500</td>\n",
       "      <td>94.983</td>\n",
       "      <td>41</td>\n",
       "      <td>no award</td>\n",
       "      <td>R</td>\n",
       "      <td>3.250</td>\n",
       "    </tr>\n",
       "    <tr>\n",
       "      <th>2</th>\n",
       "      <td>361899</td>\n",
       "      <td>256165.867</td>\n",
       "      <td>1</td>\n",
       "      <td>3</td>\n",
       "      <td>other</td>\n",
       "      <td>2012</td>\n",
       "      <td>Crime,Drama</td>\n",
       "      <td>197596</td>\n",
       "      <td>26000000</td>\n",
       "      <td>37397291</td>\n",
       "      <td>7.300</td>\n",
       "      <td>115.764</td>\n",
       "      <td>58</td>\n",
       "      <td>other award</td>\n",
       "      <td>R</td>\n",
       "      <td>2.647</td>\n",
       "    </tr>\n",
       "    <tr>\n",
       "      <th>3</th>\n",
       "      <td>308314</td>\n",
       "      <td>196622.721</td>\n",
       "      <td>3</td>\n",
       "      <td>4</td>\n",
       "      <td>lionsgate</td>\n",
       "      <td>2008</td>\n",
       "      <td>Thriller,Drama,War,Documentary,Mystery,Action</td>\n",
       "      <td>356339</td>\n",
       "      <td>15000000</td>\n",
       "      <td>15700000</td>\n",
       "      <td>7.600</td>\n",
       "      <td>130.704</td>\n",
       "      <td>94</td>\n",
       "      <td>Oscar</td>\n",
       "      <td>R</td>\n",
       "      <td>1.667</td>\n",
       "    </tr>\n",
       "    <tr>\n",
       "      <th>4</th>\n",
       "      <td>307201</td>\n",
       "      <td>159841.652</td>\n",
       "      <td>1</td>\n",
       "      <td>3</td>\n",
       "      <td>lionsgate</td>\n",
       "      <td>2013</td>\n",
       "      <td>Crime,Thriller,Mystery,Documentary</td>\n",
       "      <td>46720</td>\n",
       "      <td>27220000</td>\n",
       "      <td>8551228</td>\n",
       "      <td>6.400</td>\n",
       "      <td>105.546</td>\n",
       "      <td>37</td>\n",
       "      <td>other award</td>\n",
       "      <td>R</td>\n",
       "      <td>3.067</td>\n",
       "    </tr>\n",
       "  </tbody>\n",
       "</table>\n",
       "</div>"
      ],
      "text/plain": [
       "   video_id  cvt_per_day  weighted_categorical_position  \\\n",
       "0    385504   307127.606                              1   \n",
       "1    300175   270338.426                              1   \n",
       "2    361899   256165.867                              1   \n",
       "3    308314   196622.721                              3   \n",
       "4    307201   159841.652                              1   \n",
       "\n",
       "   weighted_horizontal_poition  import_id  release_year  \\\n",
       "0                            3  lionsgate          2013   \n",
       "1                            3  lionsgate          2013   \n",
       "2                            3      other          2012   \n",
       "3                            4  lionsgate          2008   \n",
       "4                            3  lionsgate          2013   \n",
       "\n",
       "                                          genres  imdb_votes    budget  \\\n",
       "0                          Action,Thriller,Drama       69614  15000000   \n",
       "1                          Comedy,Crime,Thriller       46705  15000000   \n",
       "2                                    Crime,Drama      197596  26000000   \n",
       "3  Thriller,Drama,War,Documentary,Mystery,Action      356339  15000000   \n",
       "4             Crime,Thriller,Mystery,Documentary       46720  27220000   \n",
       "\n",
       "   boxoffice  imdb_rating  duration_in_mins  metacritic_score       awards  \\\n",
       "0   42930462        6.500           112.301                51  other award   \n",
       "1    3301046        6.500            94.983                41     no award   \n",
       "2   37397291        7.300           115.764                58  other award   \n",
       "3   15700000        7.600           130.704                94        Oscar   \n",
       "4    8551228        6.400           105.546                37  other award   \n",
       "\n",
       "    mpaa  star_category  \n",
       "0  PG-13          1.710  \n",
       "1      R          3.250  \n",
       "2      R          2.647  \n",
       "3      R          1.667  \n",
       "4      R          3.067  "
      ]
     },
     "execution_count": 4,
     "metadata": {},
     "output_type": "execute_result"
    }
   ],
   "source": [
    "TV = pd.read_csv('TVdata.txt', sep = ',', header=0, lineterminator = '\\n')\n",
    "TV.head()"
   ]
  },
  {
   "cell_type": "code",
   "execution_count": 6,
   "metadata": {},
   "outputs": [
    {
     "name": "stdout",
     "output_type": "stream",
     "text": [
      "Number of rows: 4226\n",
      "Number of columns: 16\n"
     ]
    }
   ],
   "source": [
    "print('Number of rows: ' + str(TV.shape[0]))\n",
    "print('Number of columns: ' + str(TV.shape[1]))"
   ]
  },
  {
   "cell_type": "markdown",
   "metadata": {},
   "source": [
    "# 1 Data Exploration"
   ]
  },
  {
   "cell_type": "markdown",
   "metadata": {},
   "source": [
    "## 1.1 Exclude erroneous data\n",
    "Each video should only appear once in the list, duplicated video will be removed."
   ]
  },
  {
   "cell_type": "code",
   "execution_count": 23,
   "metadata": {},
   "outputs": [
    {
     "name": "stdout",
     "output_type": "stream",
     "text": [
      "There is no duplicated video_id.\n"
     ]
    }
   ],
   "source": [
    "# check duplicated entry\n",
    "\n",
    "for data in TV['video_id'].duplicated():\n",
    "    if data == True:\n",
    "        print(\"There are duplicates.\")\n",
    "print('There is no duplicated video_id.')"
   ]
  },
  {
   "cell_type": "markdown",
   "metadata": {},
   "source": [
    "# 1.2 Understand the numerical features"
   ]
  },
  {
   "cell_type": "markdown",
   "metadata": {},
   "source": [
    "## 1.2.1 Overview\n",
    "Note: video_id, release_year are not numerical features although they are represented by numbers."
   ]
  },
  {
   "cell_type": "code",
   "execution_count": 26,
   "metadata": {},
   "outputs": [
    {
     "name": "stdout",
     "output_type": "stream",
     "text": [
      "       cvt_per_day  weighted_categorical_position  \\\n",
      "count     4226.000                       4226.000   \n",
      "mean      4218.630                          7.783   \n",
      "std      13036.080                          6.134   \n",
      "min          2.188                          1.000   \n",
      "10%        141.985                          3.000   \n",
      "25%        351.169                          4.000   \n",
      "50%       1193.500                          6.000   \n",
      "75%       3356.789                          9.000   \n",
      "95%      14692.834                         22.000   \n",
      "max     307127.606                         41.000   \n",
      "\n",
      "       weighted_horizontal_poition  imdb_votes        budget     boxoffice  \\\n",
      "count                     4226.000    4226.000      4226.000      4226.000   \n",
      "mean                        28.104    6462.924   2150743.439   2536338.472   \n",
      "std                         11.864   31596.007   7176604.483   8243516.266   \n",
      "min                          1.000       0.000         0.000         0.000   \n",
      "10%                         13.000       8.000         0.000         0.000   \n",
      "25%                         20.000      81.000         0.000         0.000   \n",
      "50%                         28.000     535.000         0.000         0.000   \n",
      "75%                         36.000    3053.000   1500000.000         0.000   \n",
      "95%                         48.000   26199.500  12000000.000   8551228.000   \n",
      "max                         70.000  948630.000 107000000.000 184208848.000   \n",
      "\n",
      "       imdb_rating  duration_in_mins  metacritic_score  star_category  \n",
      "count     4226.000          4226.000          4226.000       4226.000  \n",
      "mean         5.257            89.556            15.974          0.955  \n",
      "std          2.123            21.086            26.205          0.955  \n",
      "min          0.000             4.037             0.000          0.000  \n",
      "10%          2.300            62.391             0.000          0.000  \n",
      "25%          4.300            82.602             0.000          0.000  \n",
      "50%          5.800            90.730             0.000          1.000  \n",
      "75%          6.800            99.500            41.000          1.667  \n",
      "95%          7.800           119.131            65.000          2.597  \n",
      "max         10.000           246.017           100.000          4.000  \n",
      "video_id                            0\n",
      "cvt_per_day                         0\n",
      "weighted_categorical_position       0\n",
      "weighted_horizontal_poition         0\n",
      "import_id                           0\n",
      "release_year                        0\n",
      "genres                              0\n",
      "imdb_votes                        344\n",
      "budget                           2454\n",
      "boxoffice                        3194\n",
      "imdb_rating                       344\n",
      "duration_in_mins                    0\n",
      "metacritic_score                 3012\n",
      "awards                              0\n",
      "mpaa                                0\n",
      "star_category                    1846\n",
      "dtype: int64\n",
      "video_id                           int64\n",
      "cvt_per_day                      float64\n",
      "weighted_categorical_position      int64\n",
      "weighted_horizontal_poition        int64\n",
      "import_id                         object\n",
      "release_year                       int64\n",
      "genres                            object\n",
      "imdb_votes                         int64\n",
      "budget                             int64\n",
      "boxoffice                          int64\n",
      "imdb_rating                      float64\n",
      "duration_in_mins                 float64\n",
      "metacritic_score                   int64\n",
      "awards                            object\n",
      "mpaa                              object\n",
      "star_category                    float64\n",
      "dtype: object\n"
     ]
    }
   ],
   "source": [
    "print(TV.drop(['video_id', 'release_year'],axis=1).describe(percentiles = [.1, .25, .5, .75, .95]))\n",
    "\n",
    "print((TV == 0).sum())      # return how many zeros there are in each column\n",
    "\n",
    "print(TV.dtypes)"
   ]
  },
  {
   "cell_type": "markdown",
   "metadata": {},
   "source": [
    "Among the 10 numerical features (not include video_id and release_year), 4 features have over 25% of missing data: budget, boxoffice, metacritic_score, star_category. 2 features have less than 10% of missing data: imdb_votes, imdb_rating.\n",
    "\n",
    "drop() : https://pandas.pydata.org/pandas-docs/stable/reference/api/pandas.DataFrame.drop.html\n",
    "describe() : https://pandas.pydata.org/pandas-docs/stable/reference/api/pandas.DataFrame.describe.html"
   ]
  },
  {
   "cell_type": "markdown",
   "metadata": {},
   "source": [
    "## 1.2.2 cvt_per_day feature"
   ]
  },
  {
   "cell_type": "code",
   "execution_count": 29,
   "metadata": {},
   "outputs": [
    {
     "data": {
      "image/png": "[encoded data removed]",
      "text/plain": [
       "<Figure size 432x288 with 1 Axes>"
      ]
     },
     "metadata": {
      "needs_background": "light"
     },
     "output_type": "display_data"
    },
    {
     "data": {
      "image/png": "[encoded data removed]",
      "text/plain": [
       "<Figure size 432x288 with 1 Axes>"
      ]
     },
     "metadata": {
      "needs_background": "light"
     },
     "output_type": "display_data"
    }
   ],
   "source": [
    "# cvt_per_day data explore --- 如果是log或者noise的，应该用其他的方法\n",
    "plt.hist(TV['cvt_per_day'].values, bins = range(0,15000, 30), alpha = 0.5, color='r', label = 'cvt_per_day', density = True)\n",
    "plt.legend(loc ='upper right')\n",
    "plt.title('Historgrams of cvt_per_day before data processing')\n",
    "plt.xlabel('cvt_per_day')\n",
    "plt.ylabel('density')\n",
    "plt.show()\n",
    "\n",
    "# log scale of y due to large variation\n",
    "plt.hist(TV['cvt_per_day'].values, log = True, bins = range(0,15000, 30), alpha = 0.5, color='g', label = 'cvt_per_day_log_scale', density = True)\n",
    "plt.legend(loc ='upper right')\n",
    "plt.title('Historgrams of cvt_per_day before data processing')\n",
    "plt.xlabel('cvt_per_day_log_scale')\n",
    "plt.ylabel('density')\n",
    "plt.show()"
   ]
  },
  {
   "cell_type": "markdown",
   "metadata": {},
   "source": [
    "matplotlib.pyplot : https://matplotlib.org/tutorials/introductory/pyplot.html\n",
    "                    https://matplotlib.org/api/pyplot_api.html"
   ]
  },
  {
   "cell_type": "markdown",
   "metadata": {},
   "source": [
    "## 1.2.3 Correlation among numerical features"
   ]
  },
  {
   "cell_type": "code",
   "execution_count": 44,
   "metadata": {},
   "outputs": [
    {
     "data": {
      "text/plain": [
       "<matplotlib.axes._subplots.AxesSubplot at 0x1a18b9e198>"
      ]
     },
     "execution_count": 44,
     "metadata": {},
     "output_type": "execute_result"
    },
    {
     "data": {
      "image/png": "[encoded data removed]",
      "text/plain": [
       "<Figure size 432x288 with 2 Axes>"
      ]
     },
     "metadata": {
      "needs_background": "light"
     },
     "output_type": "display_data"
    }
   ],
   "source": [
    "# correlation of the numerical features           ----->       seaborn画图，面试加分\n",
    "corr = TV[['cvt_per_day','weighted_categorical_position','weighted_horizontal_poition'\n",
    "               ,'release_year', 'imdb_votes', 'budget', 'boxoffice' ,'imdb_rating', \n",
    "               'duration_in_mins', 'metacritic_score', 'star_category']].corr()\n",
    "\n",
    "sns.heatmap(corr, cmap = \"BrBG\")   # or color: \"YlGnBu\" / \"coolwarm\" / \"cubehelix\"\n",
    "\n",
    "# sns colors...\n",
    "# current_palette = sns.color_palette()\n",
    "# sns.palplot(current_palette)\n",
    "# sns.palplot(sns.color_palette(\"cubehelix\", 8))\n",
    "# sns.palplot(sns.color_palette(\"BrBG\", 7))"
   ]
  },
  {
   "cell_type": "markdown",
   "metadata": {},
   "source": [
    "seaborn : https://seaborn.pydata.org/index.html\n",
    "seaborn colors : https://seaborn.pydata.org/tutorial/color_palettes.html"
   ]
  },
  {
   "cell_type": "code",
   "execution_count": 45,
   "metadata": {},
   "outputs": [
    {
     "data": {
      "text/html": [
       "<div>\n",
       "<style scoped>\n",
       "    .dataframe tbody tr th:only-of-type {\n",
       "        vertical-align: middle;\n",
       "    }\n",
       "\n",
       "    .dataframe tbody tr th {\n",
       "        vertical-align: top;\n",
       "    }\n",
       "\n",
       "    .dataframe thead th {\n",
       "        text-align: right;\n",
       "    }\n",
       "</style>\n",
       "<table border=\"1\" class=\"dataframe\">\n",
       "  <thead>\n",
       "    <tr style=\"text-align: right;\">\n",
       "      <th></th>\n",
       "      <th>cvt_per_day</th>\n",
       "      <th>weighted_categorical_position</th>\n",
       "      <th>weighted_horizontal_poition</th>\n",
       "      <th>release_year</th>\n",
       "      <th>imdb_votes</th>\n",
       "      <th>budget</th>\n",
       "      <th>boxoffice</th>\n",
       "      <th>imdb_rating</th>\n",
       "      <th>duration_in_mins</th>\n",
       "      <th>metacritic_score</th>\n",
       "      <th>star_category</th>\n",
       "    </tr>\n",
       "  </thead>\n",
       "  <tbody>\n",
       "    <tr>\n",
       "      <th>cvt_per_day</th>\n",
       "      <td>1.000</td>\n",
       "      <td>-0.148</td>\n",
       "      <td>-0.302</td>\n",
       "      <td>0.046</td>\n",
       "      <td>0.298</td>\n",
       "      <td>0.316</td>\n",
       "      <td>0.312</td>\n",
       "      <td>0.059</td>\n",
       "      <td>0.152</td>\n",
       "      <td>0.249</td>\n",
       "      <td>0.247</td>\n",
       "    </tr>\n",
       "    <tr>\n",
       "      <th>weighted_categorical_position</th>\n",
       "      <td>-0.148</td>\n",
       "      <td>1.000</td>\n",
       "      <td>-0.084</td>\n",
       "      <td>-0.069</td>\n",
       "      <td>-0.064</td>\n",
       "      <td>-0.090</td>\n",
       "      <td>-0.074</td>\n",
       "      <td>-0.116</td>\n",
       "      <td>-0.174</td>\n",
       "      <td>-0.044</td>\n",
       "      <td>-0.123</td>\n",
       "    </tr>\n",
       "    <tr>\n",
       "      <th>weighted_horizontal_poition</th>\n",
       "      <td>-0.302</td>\n",
       "      <td>-0.084</td>\n",
       "      <td>1.000</td>\n",
       "      <td>0.027</td>\n",
       "      <td>-0.221</td>\n",
       "      <td>-0.211</td>\n",
       "      <td>-0.245</td>\n",
       "      <td>-0.162</td>\n",
       "      <td>-0.102</td>\n",
       "      <td>-0.255</td>\n",
       "      <td>-0.168</td>\n",
       "    </tr>\n",
       "    <tr>\n",
       "      <th>release_year</th>\n",
       "      <td>0.046</td>\n",
       "      <td>-0.069</td>\n",
       "      <td>0.027</td>\n",
       "      <td>1.000</td>\n",
       "      <td>-0.083</td>\n",
       "      <td>-0.040</td>\n",
       "      <td>-0.128</td>\n",
       "      <td>-0.199</td>\n",
       "      <td>-0.097</td>\n",
       "      <td>-0.167</td>\n",
       "      <td>-0.198</td>\n",
       "    </tr>\n",
       "    <tr>\n",
       "      <th>imdb_votes</th>\n",
       "      <td>0.298</td>\n",
       "      <td>-0.064</td>\n",
       "      <td>-0.221</td>\n",
       "      <td>-0.083</td>\n",
       "      <td>1.000</td>\n",
       "      <td>0.273</td>\n",
       "      <td>0.531</td>\n",
       "      <td>0.163</td>\n",
       "      <td>0.156</td>\n",
       "      <td>0.322</td>\n",
       "      <td>0.225</td>\n",
       "    </tr>\n",
       "    <tr>\n",
       "      <th>budget</th>\n",
       "      <td>0.316</td>\n",
       "      <td>-0.090</td>\n",
       "      <td>-0.211</td>\n",
       "      <td>-0.040</td>\n",
       "      <td>0.273</td>\n",
       "      <td>1.000</td>\n",
       "      <td>0.505</td>\n",
       "      <td>0.106</td>\n",
       "      <td>0.251</td>\n",
       "      <td>0.315</td>\n",
       "      <td>0.322</td>\n",
       "    </tr>\n",
       "    <tr>\n",
       "      <th>boxoffice</th>\n",
       "      <td>0.312</td>\n",
       "      <td>-0.074</td>\n",
       "      <td>-0.245</td>\n",
       "      <td>-0.128</td>\n",
       "      <td>0.531</td>\n",
       "      <td>0.505</td>\n",
       "      <td>1.000</td>\n",
       "      <td>0.164</td>\n",
       "      <td>0.226</td>\n",
       "      <td>0.465</td>\n",
       "      <td>0.322</td>\n",
       "    </tr>\n",
       "    <tr>\n",
       "      <th>imdb_rating</th>\n",
       "      <td>0.059</td>\n",
       "      <td>-0.116</td>\n",
       "      <td>-0.162</td>\n",
       "      <td>-0.199</td>\n",
       "      <td>0.163</td>\n",
       "      <td>0.106</td>\n",
       "      <td>0.164</td>\n",
       "      <td>1.000</td>\n",
       "      <td>0.344</td>\n",
       "      <td>0.347</td>\n",
       "      <td>0.192</td>\n",
       "    </tr>\n",
       "    <tr>\n",
       "      <th>duration_in_mins</th>\n",
       "      <td>0.152</td>\n",
       "      <td>-0.174</td>\n",
       "      <td>-0.102</td>\n",
       "      <td>-0.097</td>\n",
       "      <td>0.156</td>\n",
       "      <td>0.251</td>\n",
       "      <td>0.226</td>\n",
       "      <td>0.344</td>\n",
       "      <td>1.000</td>\n",
       "      <td>0.327</td>\n",
       "      <td>0.309</td>\n",
       "    </tr>\n",
       "    <tr>\n",
       "      <th>metacritic_score</th>\n",
       "      <td>0.249</td>\n",
       "      <td>-0.044</td>\n",
       "      <td>-0.255</td>\n",
       "      <td>-0.167</td>\n",
       "      <td>0.322</td>\n",
       "      <td>0.315</td>\n",
       "      <td>0.465</td>\n",
       "      <td>0.347</td>\n",
       "      <td>0.327</td>\n",
       "      <td>1.000</td>\n",
       "      <td>0.452</td>\n",
       "    </tr>\n",
       "    <tr>\n",
       "      <th>star_category</th>\n",
       "      <td>0.247</td>\n",
       "      <td>-0.123</td>\n",
       "      <td>-0.168</td>\n",
       "      <td>-0.198</td>\n",
       "      <td>0.225</td>\n",
       "      <td>0.322</td>\n",
       "      <td>0.322</td>\n",
       "      <td>0.192</td>\n",
       "      <td>0.309</td>\n",
       "      <td>0.452</td>\n",
       "      <td>1.000</td>\n",
       "    </tr>\n",
       "  </tbody>\n",
       "</table>\n",
       "</div>"
      ],
      "text/plain": [
       "                               cvt_per_day  weighted_categorical_position  \\\n",
       "cvt_per_day                          1.000                         -0.148   \n",
       "weighted_categorical_position       -0.148                          1.000   \n",
       "weighted_horizontal_poition         -0.302                         -0.084   \n",
       "release_year                         0.046                         -0.069   \n",
       "imdb_votes                           0.298                         -0.064   \n",
       "budget                               0.316                         -0.090   \n",
       "boxoffice                            0.312                         -0.074   \n",
       "imdb_rating                          0.059                         -0.116   \n",
       "duration_in_mins                     0.152                         -0.174   \n",
       "metacritic_score                     0.249                         -0.044   \n",
       "star_category                        0.247                         -0.123   \n",
       "\n",
       "                               weighted_horizontal_poition  release_year  \\\n",
       "cvt_per_day                                         -0.302         0.046   \n",
       "weighted_categorical_position                       -0.084        -0.069   \n",
       "weighted_horizontal_poition                          1.000         0.027   \n",
       "release_year                                         0.027         1.000   \n",
       "imdb_votes                                          -0.221        -0.083   \n",
       "budget                                              -0.211        -0.040   \n",
       "boxoffice                                           -0.245        -0.128   \n",
       "imdb_rating                                         -0.162        -0.199   \n",
       "duration_in_mins                                    -0.102        -0.097   \n",
       "metacritic_score                                    -0.255        -0.167   \n",
       "star_category                                       -0.168        -0.198   \n",
       "\n",
       "                               imdb_votes  budget  boxoffice  imdb_rating  \\\n",
       "cvt_per_day                         0.298   0.316      0.312        0.059   \n",
       "weighted_categorical_position      -0.064  -0.090     -0.074       -0.116   \n",
       "weighted_horizontal_poition        -0.221  -0.211     -0.245       -0.162   \n",
       "release_year                       -0.083  -0.040     -0.128       -0.199   \n",
       "imdb_votes                          1.000   0.273      0.531        0.163   \n",
       "budget                              0.273   1.000      0.505        0.106   \n",
       "boxoffice                           0.531   0.505      1.000        0.164   \n",
       "imdb_rating                         0.163   0.106      0.164        1.000   \n",
       "duration_in_mins                    0.156   0.251      0.226        0.344   \n",
       "metacritic_score                    0.322   0.315      0.465        0.347   \n",
       "star_category                       0.225   0.322      0.322        0.192   \n",
       "\n",
       "                               duration_in_mins  metacritic_score  \\\n",
       "cvt_per_day                               0.152             0.249   \n",
       "weighted_categorical_position            -0.174            -0.044   \n",
       "weighted_horizontal_poition              -0.102            -0.255   \n",
       "release_year                             -0.097            -0.167   \n",
       "imdb_votes                                0.156             0.322   \n",
       "budget                                    0.251             0.315   \n",
       "boxoffice                                 0.226             0.465   \n",
       "imdb_rating                               0.344             0.347   \n",
       "duration_in_mins                          1.000             0.327   \n",
       "metacritic_score                          0.327             1.000   \n",
       "star_category                             0.309             0.452   \n",
       "\n",
       "                               star_category  \n",
       "cvt_per_day                            0.247  \n",
       "weighted_categorical_position         -0.123  \n",
       "weighted_horizontal_poition           -0.168  \n",
       "release_year                          -0.198  \n",
       "imdb_votes                             0.225  \n",
       "budget                                 0.322  \n",
       "boxoffice                              0.322  \n",
       "imdb_rating                            0.192  \n",
       "duration_in_mins                       0.309  \n",
       "metacritic_score                       0.452  \n",
       "star_category                          1.000  "
      ]
     },
     "execution_count": 45,
     "metadata": {},
     "output_type": "execute_result"
    }
   ],
   "source": [
    "corr"
   ]
  },
  {
   "cell_type": "markdown",
   "metadata": {},
   "source": [
    "# 1.3 Understand the categorical features"
   ]
  },
  {
   "cell_type": "markdown",
   "metadata": {},
   "source": [
    "## 1.3.1 simple categorical features (import_id, mpaa, awards)"
   ]
  },
  {
   "cell_type": "code",
   "execution_count": 53,
   "metadata": {},
   "outputs": [
    {
     "data": {
      "image/png": "[encoded data removed]",
      "text/plain": [
       "<Figure size 432x288 with 1 Axes>"
      ]
     },
     "metadata": {
      "needs_background": "light"
     },
     "output_type": "display_data"
    },
    {
     "name": "stdout",
     "output_type": "stream",
     "text": [
      "       index  import_id\n",
      "0      other       2963\n",
      "1  lionsgate        677\n",
      "2        mgm        445\n",
      "3  paramount        141\n"
     ]
    },
    {
     "data": {
      "image/png": "[encoded data removed]",
      "text/plain": [
       "<Figure size 432x288 with 1 Axes>"
      ]
     },
     "metadata": {
      "needs_background": "light"
     },
     "output_type": "display_data"
    },
    {
     "name": "stdout",
     "output_type": "stream",
     "text": [
      "      index  mpaa\n",
      "0  NotRated  2158\n",
      "1         R  1158\n",
      "2     PG-13   426\n",
      "3        PG   353\n",
      "4         G   125\n",
      "5     NC-17     6\n"
     ]
    },
    {
     "data": {
      "image/png": "[encoded data removed]",
      "text/plain": [
       "<Figure size 432x288 with 1 Axes>"
      ]
     },
     "metadata": {
      "needs_background": "light"
     },
     "output_type": "display_data"
    },
    {
     "name": "stdout",
     "output_type": "stream",
     "text": [
      "          index  awards\n",
      "0      no award    2569\n",
      "1   other award    1453\n",
      "2         Oscar     141\n",
      "3  Golden Globe      44\n",
      "4         BAFTA      19\n"
     ]
    }
   ],
   "source": [
    "sns.stripplot(x = 'import_id', y = 'cvt_per_day', data = TV, jitter = True)\n",
    "plt.show()\n",
    "print(TV['import_id'].value_counts().reset_index())\n",
    "\n",
    "sns.stripplot(x = 'mpaa', y = 'cvt_per_day', data = TV, jitter = True)\n",
    "plt.show()\n",
    "print(TV['mpaa'].value_counts().reset_index())\n",
    "\n",
    "sns.stripplot(x = 'awards', y = 'cvt_per_day', data = TV, jitter = True)\n",
    "plt.show()\n",
    "print(TV['awards'].value_counts().reset_index())\n",
    "\n",
    "\n",
    "# one hot encode  "
   ]
  },
  {
   "cell_type": "markdown",
   "metadata": {},
   "source": [
    "## 1.3.2 Distribution of splited genres\n",
    "Some videos belongs to more than 1 genre, the genre of each video is splited, this would help emphasize the effect of each individual genre."
   ]
  },
  {
   "cell_type": "code",
   "execution_count": 67,
   "metadata": {},
   "outputs": [
    {
     "data": {
      "text/plain": [
       "<matplotlib.axes._subplots.AxesSubplot at 0x1a193cf128>"
      ]
     },
     "execution_count": 67,
     "metadata": {},
     "output_type": "execute_result"
    },
    {
     "data": {
      "image/png": "[encoded data removed]",
      "text/plain": [
       "<Figure size 432x288 with 1 Axes>"
      ]
     },
     "metadata": {
      "needs_background": "light"
     },
     "output_type": "display_data"
    }
   ],
   "source": [
    "# generes explore, split the genre of each video mul(1, axis=0)\n",
    "\n",
    "gen_split = TV['genres'].str.get_dummies(sep=',').mul(1, axis=0).sum()\n",
    "\n",
    "gen_split.sort_values(ascending = False).plot.bar()"
   ]
  },
  {
   "cell_type": "code",
   "execution_count": 81,
   "metadata": {},
   "outputs": [
    {
     "data": {
      "text/plain": [
       "Action                    739\n",
       "Adult                       3\n",
       "Adventure                 363\n",
       "Animation                 129\n",
       "Anime                      11\n",
       "Comedy                   1184\n",
       "Crime                     437\n",
       "Documentary               671\n",
       "Drama                    1677\n",
       "Fantasy                   243\n",
       "Foreign/International      64\n",
       "Holiday                     1\n",
       "Horror                    762\n",
       "Independent               393\n",
       "Kids & Family             280\n",
       "LGBT                        2\n",
       "Lifestyle                   7\n",
       "Music                     171\n",
       "Musicals                   68\n",
       "Mystery                   375\n",
       "Reality                     9\n",
       "Romance                   591\n",
       "Sci-Fi                    363\n",
       "Sport                      77\n",
       "Thriller                  879\n",
       "War                       102\n",
       "Western                   102\n",
       "dtype: int64"
      ]
     },
     "execution_count": 81,
     "metadata": {},
     "output_type": "execute_result"
    }
   ],
   "source": [
    "TV['genres'].str.get_dummies(sep=',').sum(axis=0)"
   ]
  },
  {
   "cell_type": "markdown",
   "metadata": {},
   "source": [
    "6 genres including Anime, Reality, Lifestyle, Adult, LGBT, Holiday have -------> low frequencies <-------  . \n",
    "\n",
    "Therefore, during feature processing, they will be grouped together as: 'Misc_gen' in the feature 'genres'.\n",
    "\n",
    "\n",
    "## One hot encoding\n",
    "### pandas.get_dummies() == sklearn.onehotencoder() ???\n",
    "\n",
    "pandas.Series.str.get_dummies : https://pandas.pydata.org/pandas-docs/stable/reference/api/pandas.Series.str.get_dummies.html\n",
    "\n",
    "sklearn also has one hot encode function, which I think has the similar goal as pandas's get_dummies :\n",
    "https://scikit-learn.org/stable/modules/generated/sklearn.preprocessing.OneHotEncoder.html\n",
    "\n",
    "pandas.DataFrame.mul : https://pandas.pydata.org/pandas-docs/stable/reference/api/pandas.DataFrame.mul.html\n",
    "\n",
    "pandas.DataFrame.sum : https://pandas.pydata.org/pandas-docs/stable/reference/api/pandas.DataFrame.sum.html"
   ]
  },
  {
   "cell_type": "markdown",
   "metadata": {},
   "source": [
    "## 1.3.3 Distribution of release_year\n",
    "The release year of video varies through a wide range. \n",
    "Considering the popularity of a video usually decays over time, the release_year should be bucketed based on the release_year range."
   ]
  },
  {
   "cell_type": "code",
   "execution_count": 101,
   "metadata": {},
   "outputs": [
    {
     "data": {
      "image/png": "[encoded data removed]",
      "text/plain": [
       "<Figure size 432x288 with 1 Axes>"
      ]
     },
     "metadata": {
      "needs_background": "light"
     },
     "output_type": "display_data"
    },
    {
     "name": "stdout",
     "output_type": "stream",
     "text": [
      "count   4226.000\n",
      "mean    2001.057\n",
      "std       17.497\n",
      "min     1916.000\n",
      "10%     1974.000\n",
      "20%     1991.000\n",
      "30%     2001.000\n",
      "40%     2006.000\n",
      "50%     2008.000\n",
      "60%     2010.000\n",
      "70%     2012.000\n",
      "80%     2013.000\n",
      "90%     2014.000\n",
      "max     2017.000\n",
      "Name: release_year, dtype: float64\n"
     ]
    }
   ],
   "source": [
    "plt.figure(1)\n",
    "plt.hist( TV['release_year'].values, bins = range(1910, 2017, 1),alpha = 0.7, color='green', label = 'release_year', density = True)\n",
    "plt.legend(loc ='upper left')   # -----> for the \"release year\" legend\n",
    "plt.title('Historgrams of release_year before data processing')\n",
    "plt.xlabel('release_year')\n",
    "plt.ylabel('density')\n",
    "plt.show()\n",
    "\n",
    "print( TV['release_year'].describe( percentiles = [.1, .2, .3, .4,.5, .6, .7, .8, .9] ) )\n",
    "\n",
    "# alpha = 0.99, color='pink' ---> color"
   ]
  },
  {
   "cell_type": "markdown",
   "metadata": {},
   "source": [
    "matplotlib.pyplot.hist : https://matplotlib.org/api/_as_gen/matplotlib.pyplot.hist.html\n",
    "\n",
    "matplotlib.pyplot.legend : https://matplotlib.org/api/_as_gen/matplotlib.pyplot.legend.html"
   ]
  },
  {
   "cell_type": "markdown",
   "metadata": {},
   "source": []
  },
  {
   "cell_type": "markdown",
   "metadata": {},
   "source": []
  },
  {
   "cell_type": "markdown",
   "metadata": {},
   "source": []
  },
  {
   "cell_type": "markdown",
   "metadata": {},
   "source": [
    "# Part 2: Feature Preprocessing"
   ]
  },
  {
   "cell_type": "markdown",
   "metadata": {},
   "source": [
    "## 2.1 Categorical features\n",
    "\n",
    "There are 5 categorical features:   import_id,      mpaa,        awards,        genres,      and        release_year.\n",
    "\n",
    "There is no missing data in them. They can be converted into dummy/indicators.\n",
    "\n",
    "The first 3 have relatively small sub-types, they can be easily converted to dummies.\n",
    "\n",
    "The 'genres' have 27 different sub-types, 6 of them are rarely observed (refer to previous section). \n",
    "It's reasonable to group these 6 into 1. \n",
    "Note: a video may have more than one genre, in the feature preprocessing, all genres are handled individually.\n",
    "\n",
    "The release_year is bined into 10 buckets based on the year range between 1917 and 2017."
   ]
  },
  {
   "cell_type": "code",
   "execution_count": 102,
   "metadata": {},
   "outputs": [],
   "source": [
    "# ------------> import_id , mpaa , awards <-------------\n",
    "\n",
    "# Convert 3 Categorical variables into dummy variables\n",
    "\n",
    "d_import_id = pd.get_dummies(TV['import_id']).astype(np.int64)\n",
    "\n",
    "d_mpaa = pd.get_dummies(TV['mpaa']).astype(np.int64)\n",
    "\n",
    "d_awards = pd.get_dummies(TV['awards']).astype(np.int64)"
   ]
  },
  {
   "cell_type": "code",
   "execution_count": 103,
   "metadata": {},
   "outputs": [],
   "source": [
    "# --------------> genres <----------------\n",
    "\n",
    "\n",
    "# Convert 'genres' into dummy variables\n",
    "\n",
    "d_genres = pd.DataFrame() \n",
    "\n",
    "for genre in ['Action', 'Adult', 'Adventure', 'Animation', 'Anime', 'Comedy', 'Crime', 'Documentary', 'Drama'\n",
    "          , 'Fantasy', 'Foreign/International', 'Holiday', 'Horror', 'Independent', 'Kids & Family', 'LGBT', \n",
    "          'Lifestyle', 'Music', 'Musicals','Mystery', 'Reality', 'Romance','Sci-Fi', 'Sport', 'Thriller', 'War', \n",
    "          'Western']:\n",
    "    gen_lst = []\n",
    "    for i in range(4226):        \n",
    "        if genre in TV['genres'][i]:\n",
    "            gen_lst.append(1)    \n",
    "        else: \n",
    "            gen_lst.append(0)  \n",
    "    d_genres[genre] = pd.Series(gen_lst).values\n",
    "    \n",
    "    \n",
    "    \n",
    "# combine 6 smallest genres into a new genre 'Misc_gen'. Use bitwise operation '|', then drop these 6 columns.\n",
    "\n",
    "d_genres['Misc_gen'] = d_genres['Anime']|d_genres['Reality']|d_genres['Lifestyle']|d_genres['Adult']|d_genres['LGBT']|d_genres['Holiday']\n",
    "\n",
    "d_genres.drop(['Anime', 'Reality','Lifestyle', 'Adult','LGBT','Holiday'], inplace=True, axis=1)"
   ]
  },
  {
   "cell_type": "code",
   "execution_count": 104,
   "metadata": {},
   "outputs": [],
   "source": [
    "# bin release_year and convert into dummies\n",
    "\n",
    "bin_year = [1916, 1974, 1991, 2001, 2006, 2008, 2010, 2012, 2013, 2014,2017]\n",
    "\n",
    "year_range = ['1916-1974', '1974-1991', '1991-2001', '2001-2006','2006-2008','2008-2010','2010-2012','2012-2013',\n",
    "              '2013-2014','2014-2017']\n",
    "\n",
    "year_bin = pd.cut(TV['release_year'], bin_year, labels=year_range)\n",
    "\n",
    "d_year = pd.get_dummies(year_bin).astype(np.int64)"
   ]
  },
  {
   "cell_type": "code",
   "execution_count": 108,
   "metadata": {},
   "outputs": [
    {
     "name": "stdout",
     "output_type": "stream",
     "text": [
      "(4226, 58)\n",
      "[]\n",
      "   video_id  cvt_per_day  weighted_categorical_position  \\\n",
      "0    385504   307127.606                              1   \n",
      "1    300175   270338.426                              1   \n",
      "2    361899   256165.867                              1   \n",
      "3    308314   196622.721                              3   \n",
      "4    307201   159841.652                              1   \n",
      "\n",
      "   weighted_horizontal_poition  imdb_votes    budget  boxoffice  imdb_rating  \\\n",
      "0                            3       69614  15000000   42930462        6.500   \n",
      "1                            3       46705  15000000    3301046        6.500   \n",
      "2                            3      197596  26000000   37397291        7.300   \n",
      "3                            4      356339  15000000   15700000        7.600   \n",
      "4                            3       46720  27220000    8551228        6.400   \n",
      "\n",
      "   duration_in_mins  metacritic_score  ...  1916-1974  1974-1991  1991-2001  \\\n",
      "0           112.301                51  ...          0          0          0   \n",
      "1            94.983                41  ...          0          0          0   \n",
      "2           115.764                58  ...          0          0          0   \n",
      "3           130.704                94  ...          0          0          0   \n",
      "4           105.546                37  ...          0          0          0   \n",
      "\n",
      "   2001-2006  2006-2008  2008-2010  2010-2012  2012-2013  2013-2014  2014-2017  \n",
      "0          0          0          0          0          1          0          0  \n",
      "1          0          0          0          0          1          0          0  \n",
      "2          0          0          0          1          0          0          0  \n",
      "3          0          1          0          0          0          0          0  \n",
      "4          0          0          0          0          1          0          0  \n",
      "\n",
      "[5 rows x 58 columns]\n"
     ]
    }
   ],
   "source": [
    "# new dataframe\n",
    "# drop the previous categorical features\n",
    "# add new dummy variables\n",
    "# check for null\n",
    "\n",
    "TV_temp = TV.drop(['import_id', 'mpaa','awards','genres', 'release_year'], axis=1)\n",
    "\n",
    "newTV = pd.concat([TV_temp, d_import_id, d_mpaa, d_awards, d_genres, d_year], axis=1)        # merge two dataset\n",
    "\n",
    "print(newTV.shape)\n",
    "print(pd.isnull(newTV).any(1).to_numpy().nonzero()[0])\n",
    "print(newTV.head())\n",
    "\n",
    "newTV_0 = newTV.copy() # a copy of newTV\n",
    "\n",
    "# FutureWarning: Series.nonzero() is deprecated and will be removed \n",
    "# in a future version.Use Series.to_numpy().nonzero() instead"
   ]
  },
  {
   "cell_type": "markdown",
   "metadata": {},
   "source": [
    "pandas.concat() : https://pandas.pydata.org/pandas-docs/stable/reference/api/pandas.concat.html"
   ]
  },
  {
   "cell_type": "markdown",
   "metadata": {},
   "source": [
    "Feature space holds 4226 observations and 58 features in total.\n",
    "\n",
    "There is NO null data. newTV_0 is kepted as the raw dataframe before any further feature processing, e.g. replace 0 with null, missing data fill etc."
   ]
  },
  {
   "cell_type": "markdown",
   "metadata": {},
   "source": [
    "## 2.2 Handling of missing data\n",
    "\n",
    "Among the 10 numerical features (not include video_id), 4 features have over 25% of missing values (shown as '0', which is not possible in reality): budget, boxoffice, metacritic_score, star_category. 2 features have less than 10% of missing data: imdb_votes, imdb_rating.\n",
    "\n",
    "There are 3242 samples have at least one missing data."
   ]
  },
  {
   "cell_type": "code",
   "execution_count": 109,
   "metadata": {},
   "outputs": [
    {
     "name": "stdout",
     "output_type": "stream",
     "text": [
      "video_id                            0\n",
      "cvt_per_day                         0\n",
      "weighted_categorical_position       0\n",
      "weighted_horizontal_poition         0\n",
      "imdb_votes                        344\n",
      "budget                           2454\n",
      "boxoffice                        3194\n",
      "imdb_rating                       344\n",
      "duration_in_mins                    0\n",
      "metacritic_score                 3012\n",
      "star_category                    1846\n",
      "lionsgate                           0\n",
      "mgm                                 0\n",
      "other                               0\n",
      "paramount                           0\n",
      "G                                   0\n",
      "NC-17                               0\n",
      "NotRated                            0\n",
      "PG                                  0\n",
      "PG-13                               0\n",
      "R                                   0\n",
      "BAFTA                               0\n",
      "Golden Globe                        0\n",
      "Oscar                               0\n",
      "no award                            0\n",
      "other award                         0\n",
      "Action                              0\n",
      "Adventure                           0\n",
      "Animation                           0\n",
      "Comedy                              0\n",
      "Crime                               0\n",
      "Documentary                         0\n",
      "Drama                               0\n",
      "Fantasy                             0\n",
      "Foreign/International               0\n",
      "Horror                              0\n",
      "Independent                         0\n",
      "Kids & Family                       0\n",
      "Music                               0\n",
      "Musicals                            0\n",
      "Mystery                             0\n",
      "Romance                             0\n",
      "Sci-Fi                              0\n",
      "Sport                               0\n",
      "Thriller                            0\n",
      "War                                 0\n",
      "Western                             0\n",
      "Misc_gen                            0\n",
      "1916-1974                           0\n",
      "1974-1991                           0\n",
      "1991-2001                           0\n",
      "2001-2006                           0\n",
      "2006-2008                           0\n",
      "2008-2010                           0\n",
      "2010-2012                           0\n",
      "2012-2013                           0\n",
      "2013-2014                           0\n",
      "2014-2017                           0\n",
      "dtype: int64\n",
      "videos having at least one null:  3242\n"
     ]
    }
   ],
   "source": [
    "# mark zero values as NaN\n",
    "newTV[['budget','boxoffice','metacritic_score', 'star_category','imdb_votes', 'imdb_rating']] = newTV[['budget','boxoffice','metacritic_score', 'star_category','imdb_votes', 'imdb_rating']].replace(0, np.nan)\n",
    "\n",
    "# count the number of NaN values in each column\n",
    "print(newTV.isnull().sum())\n",
    "\n",
    "#count the number videos who have at least one missing data \n",
    "print('videos having at least one null: ', newTV.isnull().any(axis=1).sum())"
   ]
  },
  {
   "cell_type": "markdown",
   "metadata": {},
   "source": [
    "## 2.2.1 Filling missing data with mean value\n",
    "\n",
    "For imdb_voates and imdb_rating, they always show 'null' together, which is reasonable, since when a imdb_votes is missing, the imdb_rating is mostly also missing. \n",
    "\n",
    "For all 6 features with missiong data, the 1st attempt is to fill in with their mean value."
   ]
  },
  {
   "cell_type": "code",
   "execution_count": 115,
   "metadata": {},
   "outputs": [],
   "source": [
    "# fill missing values with the column mean\n",
    "newTV_i1 = newTV.copy()\n",
    "newTV_i1['budget'].fillna(newTV_i1['budget'].mean(), inplace=True)\n",
    "newTV_i1['boxoffice'].fillna(newTV_i1['boxoffice'].mean(), inplace=True)\n",
    "newTV_i1['metacritic_score'].fillna(newTV_i1['metacritic_score'].mean(), inplace=True)\n",
    "newTV_i1['star_category'].fillna(newTV_i1['star_category'].mean(), inplace=True)\n",
    "newTV_i1['imdb_votes'].fillna(newTV_i1['imdb_votes'].mean(), inplace=True)\n",
    "newTV_i1['imdb_rating'].fillna(newTV_i1['imdb_rating'].mean(), inplace=True)"
   ]
  },
  {
   "cell_type": "markdown",
   "metadata": {},
   "source": [
    "newTV_i1 have the feature processing as: fill the missing data in budget, boxoffice, metacritic_score, star_category, imdb_votes, imdb_rating with mean. It will be tested in the upcoming models."
   ]
  },
  {
   "cell_type": "markdown",
   "metadata": {},
   "source": [
    "## 2.3 Feature scaling\n",
    "\n",
    "The impact of different scaling methods on the model performance is small. \n",
    "\n",
    "In the following model training and selections, the standard scaling (sc) data is used."
   ]
  },
  {
   "cell_type": "code",
   "execution_count": 117,
   "metadata": {},
   "outputs": [
    {
     "name": "stderr",
     "output_type": "stream",
     "text": [
      "/Users/guanmingshen/anaconda3/envs/guanming/lib/python3.7/site-packages/sklearn/preprocessing/data.py:625: DataConversionWarning: Data with input dtype int64, float64 were all converted to float64 by StandardScaler.\n",
      "  return self.partial_fit(X, y)\n",
      "/Users/guanmingshen/anaconda3/envs/guanming/lib/python3.7/site-packages/ipykernel_launcher.py:12: DataConversionWarning: Data with input dtype int64, float64 were all converted to float64 by StandardScaler.\n",
      "  if sys.path[0] == '':\n"
     ]
    },
    {
     "data": {
      "text/html": [
       "<div>\n",
       "<style scoped>\n",
       "    .dataframe tbody tr th:only-of-type {\n",
       "        vertical-align: middle;\n",
       "    }\n",
       "\n",
       "    .dataframe tbody tr th {\n",
       "        vertical-align: top;\n",
       "    }\n",
       "\n",
       "    .dataframe thead th {\n",
       "        text-align: right;\n",
       "    }\n",
       "</style>\n",
       "<table border=\"1\" class=\"dataframe\">\n",
       "  <thead>\n",
       "    <tr style=\"text-align: right;\">\n",
       "      <th></th>\n",
       "      <th>video_id</th>\n",
       "      <th>cvt_per_day</th>\n",
       "      <th>weighted_categorical_position</th>\n",
       "      <th>weighted_horizontal_poition</th>\n",
       "      <th>imdb_votes</th>\n",
       "      <th>budget</th>\n",
       "      <th>boxoffice</th>\n",
       "      <th>imdb_rating</th>\n",
       "      <th>duration_in_mins</th>\n",
       "      <th>metacritic_score</th>\n",
       "      <th>...</th>\n",
       "      <th>1916-1974</th>\n",
       "      <th>1974-1991</th>\n",
       "      <th>1991-2001</th>\n",
       "      <th>2001-2006</th>\n",
       "      <th>2006-2008</th>\n",
       "      <th>2008-2010</th>\n",
       "      <th>2010-2012</th>\n",
       "      <th>2012-2013</th>\n",
       "      <th>2013-2014</th>\n",
       "      <th>2014-2017</th>\n",
       "    </tr>\n",
       "  </thead>\n",
       "  <tbody>\n",
       "    <tr>\n",
       "      <th>0</th>\n",
       "      <td>385504</td>\n",
       "      <td>307127.606</td>\n",
       "      <td>-1.106</td>\n",
       "      <td>-2.116</td>\n",
       "      <td>1.984</td>\n",
       "      <td>1.470</td>\n",
       "      <td>4.696</td>\n",
       "      <td>0.542</td>\n",
       "      <td>1.079</td>\n",
       "      <td>-0.630</td>\n",
       "      <td>...</td>\n",
       "      <td>0</td>\n",
       "      <td>0</td>\n",
       "      <td>0</td>\n",
       "      <td>0</td>\n",
       "      <td>0</td>\n",
       "      <td>0</td>\n",
       "      <td>0</td>\n",
       "      <td>1</td>\n",
       "      <td>0</td>\n",
       "      <td>0</td>\n",
       "    </tr>\n",
       "    <tr>\n",
       "      <th>1</th>\n",
       "      <td>300175</td>\n",
       "      <td>270338.426</td>\n",
       "      <td>-1.106</td>\n",
       "      <td>-2.116</td>\n",
       "      <td>1.258</td>\n",
       "      <td>1.470</td>\n",
       "      <td>-1.022</td>\n",
       "      <td>0.542</td>\n",
       "      <td>0.257</td>\n",
       "      <td>-1.997</td>\n",
       "      <td>...</td>\n",
       "      <td>0</td>\n",
       "      <td>0</td>\n",
       "      <td>0</td>\n",
       "      <td>0</td>\n",
       "      <td>0</td>\n",
       "      <td>0</td>\n",
       "      <td>0</td>\n",
       "      <td>1</td>\n",
       "      <td>0</td>\n",
       "      <td>0</td>\n",
       "    </tr>\n",
       "    <tr>\n",
       "      <th>2</th>\n",
       "      <td>361899</td>\n",
       "      <td>256165.867</td>\n",
       "      <td>-1.106</td>\n",
       "      <td>-2.116</td>\n",
       "      <td>6.043</td>\n",
       "      <td>3.108</td>\n",
       "      <td>3.898</td>\n",
       "      <td>1.100</td>\n",
       "      <td>1.243</td>\n",
       "      <td>0.327</td>\n",
       "      <td>...</td>\n",
       "      <td>0</td>\n",
       "      <td>0</td>\n",
       "      <td>0</td>\n",
       "      <td>0</td>\n",
       "      <td>0</td>\n",
       "      <td>0</td>\n",
       "      <td>1</td>\n",
       "      <td>0</td>\n",
       "      <td>0</td>\n",
       "      <td>0</td>\n",
       "    </tr>\n",
       "    <tr>\n",
       "      <th>3</th>\n",
       "      <td>308314</td>\n",
       "      <td>196622.721</td>\n",
       "      <td>-0.780</td>\n",
       "      <td>-2.032</td>\n",
       "      <td>11.077</td>\n",
       "      <td>1.470</td>\n",
       "      <td>0.767</td>\n",
       "      <td>1.309</td>\n",
       "      <td>1.952</td>\n",
       "      <td>5.250</td>\n",
       "      <td>...</td>\n",
       "      <td>0</td>\n",
       "      <td>0</td>\n",
       "      <td>0</td>\n",
       "      <td>0</td>\n",
       "      <td>1</td>\n",
       "      <td>0</td>\n",
       "      <td>0</td>\n",
       "      <td>0</td>\n",
       "      <td>0</td>\n",
       "      <td>0</td>\n",
       "    </tr>\n",
       "    <tr>\n",
       "      <th>4</th>\n",
       "      <td>307201</td>\n",
       "      <td>159841.652</td>\n",
       "      <td>-1.106</td>\n",
       "      <td>-2.116</td>\n",
       "      <td>1.258</td>\n",
       "      <td>3.290</td>\n",
       "      <td>-0.265</td>\n",
       "      <td>0.472</td>\n",
       "      <td>0.758</td>\n",
       "      <td>-2.544</td>\n",
       "      <td>...</td>\n",
       "      <td>0</td>\n",
       "      <td>0</td>\n",
       "      <td>0</td>\n",
       "      <td>0</td>\n",
       "      <td>0</td>\n",
       "      <td>0</td>\n",
       "      <td>0</td>\n",
       "      <td>1</td>\n",
       "      <td>0</td>\n",
       "      <td>0</td>\n",
       "    </tr>\n",
       "  </tbody>\n",
       "</table>\n",
       "<p>5 rows × 58 columns</p>\n",
       "</div>"
      ],
      "text/plain": [
       "   video_id  cvt_per_day  weighted_categorical_position  \\\n",
       "0    385504   307127.606                         -1.106   \n",
       "1    300175   270338.426                         -1.106   \n",
       "2    361899   256165.867                         -1.106   \n",
       "3    308314   196622.721                         -0.780   \n",
       "4    307201   159841.652                         -1.106   \n",
       "\n",
       "   weighted_horizontal_poition  imdb_votes  budget  boxoffice  imdb_rating  \\\n",
       "0                       -2.116       1.984   1.470      4.696        0.542   \n",
       "1                       -2.116       1.258   1.470     -1.022        0.542   \n",
       "2                       -2.116       6.043   3.108      3.898        1.100   \n",
       "3                       -2.032      11.077   1.470      0.767        1.309   \n",
       "4                       -2.116       1.258   3.290     -0.265        0.472   \n",
       "\n",
       "   duration_in_mins  metacritic_score  ...  1916-1974  1974-1991  1991-2001  \\\n",
       "0             1.079            -0.630  ...          0          0          0   \n",
       "1             0.257            -1.997  ...          0          0          0   \n",
       "2             1.243             0.327  ...          0          0          0   \n",
       "3             1.952             5.250  ...          0          0          0   \n",
       "4             0.758            -2.544  ...          0          0          0   \n",
       "\n",
       "   2001-2006  2006-2008  2008-2010  2010-2012  2012-2013  2013-2014  2014-2017  \n",
       "0          0          0          0          0          1          0          0  \n",
       "1          0          0          0          0          1          0          0  \n",
       "2          0          0          0          1          0          0          0  \n",
       "3          0          1          0          0          0          0          0  \n",
       "4          0          0          0          0          1          0          0  \n",
       "\n",
       "[5 rows x 58 columns]"
      ]
     },
     "execution_count": 117,
     "metadata": {},
     "output_type": "execute_result"
    }
   ],
   "source": [
    "# scaling的几种方法 ------> 面试会问\n",
    "# targeting的东西不要scale -----> 这里是cvt\n",
    "\n",
    "\n",
    "#Standard scaling\n",
    "\n",
    "scale_lst = ['weighted_categorical_position', 'weighted_horizontal_poition', 'budget','boxoffice', \n",
    "             'imdb_votes','imdb_rating','duration_in_mins', 'metacritic_score','star_category']\n",
    "newTV_sc = newTV_i1.copy()\n",
    "\n",
    "sc_scale = preprocessing.StandardScaler().fit(newTV_sc[scale_lst])\n",
    "newTV_sc[scale_lst] = sc_scale.transform(newTV_sc[scale_lst])\n",
    "\n",
    "newTV_sc.head()"
   ]
  },
  {
   "cell_type": "code",
   "execution_count": 118,
   "metadata": {},
   "outputs": [
    {
     "name": "stderr",
     "output_type": "stream",
     "text": [
      "/Users/guanmingshen/anaconda3/envs/guanming/lib/python3.7/site-packages/sklearn/preprocessing/data.py:323: DataConversionWarning: Data with input dtype int64, float64 were all converted to float64 by MinMaxScaler.\n",
      "  return self.partial_fit(X, y)\n"
     ]
    }
   ],
   "source": [
    "# MinMax scaling\n",
    "newTV_mm = newTV_i1.copy()\n",
    "mm_scale = preprocessing.MinMaxScaler().fit(newTV_mm[scale_lst])\n",
    "newTV_mm[scale_lst] = mm_scale.transform(newTV_mm[scale_lst])"
   ]
  },
  {
   "cell_type": "code",
   "execution_count": 119,
   "metadata": {},
   "outputs": [],
   "source": [
    "# Robust scaling\n",
    "newTV_rs = newTV_i1.copy()\n",
    "rs_scale = preprocessing.RobustScaler().fit(newTV_mm[scale_lst])\n",
    "newTV_rs[scale_lst] = rs_scale.transform(newTV_rs[scale_lst])"
   ]
  },
  {
   "cell_type": "markdown",
   "metadata": {},
   "source": []
  },
  {
   "cell_type": "markdown",
   "metadata": {},
   "source": []
  },
  {
   "cell_type": "markdown",
   "metadata": {},
   "source": [
    "# Part 3: Model Training"
   ]
  },
  {
   "cell_type": "markdown",
   "metadata": {},
   "source": [
    "85% of the samples will be used to train all the models, and 15% is reserved for test the models in next section.\n",
    "\n",
    "sklearn.model_selection ---> train_test_split : https://scikit-learn.org/stable/modules/generated/sklearn.model_selection.train_test_split.html"
   ]
  },
  {
   "cell_type": "code",
   "execution_count": 121,
   "metadata": {},
   "outputs": [],
   "source": [
    "from sklearn.model_selection import train_test_split   # Split arrays or matrices into random train and test subsets\n",
    "from sklearn.linear_model import LinearRegression, Lasso, Ridge\n",
    "from sklearn.metrics import mean_squared_error, r2_score\n",
    "from math import sqrt"
   ]
  },
  {
   "cell_type": "code",
   "execution_count": 122,
   "metadata": {},
   "outputs": [],
   "source": [
    "# The 15% test data will kept aside, they won't be seen by the models until final test/comparison.\n",
    "\n",
    "model_train, model_test = train_test_split(newTV_sc, test_size=0.15, random_state = 3)  # setting Parameters\n",
    "\n",
    "model_train_x = model_train.drop(['video_id', 'cvt_per_day'], axis = 1)\n",
    "\n",
    "model_test_x = model_test.drop(['video_id', 'cvt_per_day'], axis = 1)\n",
    "\n",
    "model_train_y = model_train['cvt_per_day']\n",
    "\n",
    "model_test_y = model_test['cvt_per_day']"
   ]
  },
  {
   "cell_type": "markdown",
   "metadata": {},
   "source": [
    "# 3.1 Linear models"
   ]
  },
  {
   "cell_type": "markdown",
   "metadata": {},
   "source": [
    "## 3.1.1 Lasso linear regression\n",
    "\n",
    "sklearn.linear_model ---> Lasso : https://scikit-learn.org/stable/modules/generated/sklearn.linear_model.Lasso.html\n",
    "\n",
    "1) All featuers are linear"
   ]
  },
  {
   "cell_type": "code",
   "execution_count": 135,
   "metadata": {},
   "outputs": [
    {
     "data": {
      "image/png": "[encoded data removed]",
      "text/plain": [
       "<Figure size 432x288 with 1 Axes>"
      ]
     },
     "metadata": {
      "needs_background": "light"
     },
     "output_type": "display_data"
    },
    {
     "name": "stdout",
     "output_type": "stream",
     "text": [
      "The optimaized alpha and score of Lasso linear is:  122.06107238906554 0.36457853302954235\n"
     ]
    }
   ],
   "source": [
    "from sklearn.model_selection import train_test_split\n",
    "from sklearn.linear_model import LinearRegression, Lasso, Ridge\n",
    "from sklearn.metrics import mean_squared_error, r2_score\n",
    "from math import sqrt\n",
    "\n",
    "lr_train, lr_validate = train_test_split(model_train, test_size=0.15, random_state = 0)\n",
    "\n",
    "lr_train_x = lr_train.drop(['video_id', 'cvt_per_day'], axis = 1)\n",
    "lr_validate_x = lr_validate.drop(['video_id', 'cvt_per_day'], axis = 1)\n",
    "lr_train_y = lr_train['cvt_per_day']\n",
    "lr_validate_y = lr_validate['cvt_per_day']\n",
    "\n",
    "alphas = np.logspace (-0.3, 2.5, num=150)             # -----> 调参？ alpha == Lasso里的lambda?\n",
    "# alphas= [0.000000001]\n",
    "\n",
    "scores = np.empty_like(alphas)\n",
    "opt_a = float('-inf')            #  The optimaized alpha\n",
    "max_score = float('-inf')        #  score of Lasso linear\n",
    "\n",
    "for i, a in enumerate(alphas):\n",
    "    lasso = sl.linear_model.Lasso()                   # imported sklearn as sl\n",
    "    lasso.set_params(alpha = a)\n",
    "    lasso.fit(lr_train_x, lr_train_y)\n",
    "    scores[i] = lasso.score(lr_validate_x, lr_validate_y)\n",
    "    if scores[i] > max_score:\n",
    "        max_score = scores[i]\n",
    "        opt_a = a\n",
    "        lasso_save = lasso\n",
    "plt.plot(alphas, scores, color='pink', linestyle='dashed', marker='o',markerfacecolor='pink', markersize=6)\n",
    "plt.xlabel('alpha')\n",
    "plt.ylabel('score')\n",
    "plt.grid(True)\n",
    "plt.title('score vs. alpha')\n",
    "plt.show()\n",
    "print('The optimaized alpha and score of Lasso linear is: ', opt_a, max_score)"
   ]
  },
  {
   "cell_type": "code",
   "execution_count": 138,
   "metadata": {},
   "outputs": [
    {
     "data": {
      "text/plain": [
       "Lasso(alpha=122.06107238906554, copy_X=True, fit_intercept=True,\n",
       "   max_iter=1000, normalize=False, positive=False, precompute=False,\n",
       "   random_state=None, selection='cyclic', tol=0.0001, warm_start=False)"
      ]
     },
     "execution_count": 138,
     "metadata": {},
     "output_type": "execute_result"
    }
   ],
   "source": [
    "# combine the validate data and training data, use the optimal alpha, re-train the model\n",
    "\n",
    "lasso_f = sl.linear_model.Lasso()\n",
    "lasso_f.set_params(alpha = opt_a)\n",
    "lasso_f.fit(model_train_x, model_train_y)\n",
    "\n",
    "# lasso_f is the Lasso model (linear feature), to be tested with final test data."
   ]
  },
  {
   "cell_type": "markdown",
   "metadata": {},
   "source": [
    "2) Ploynomial features"
   ]
  },
  {
   "cell_type": "code",
   "execution_count": 139,
   "metadata": {},
   "outputs": [
    {
     "name": "stderr",
     "output_type": "stream",
     "text": [
      "/Users/guanmingshen/anaconda3/envs/guanming/lib/python3.7/site-packages/sklearn/linear_model/coordinate_descent.py:492: ConvergenceWarning: Objective did not converge. You might want to increase the number of iterations. Fitting data with very small alpha may cause precision problems.\n",
      "  ConvergenceWarning)\n",
      "/Users/guanmingshen/anaconda3/envs/guanming/lib/python3.7/site-packages/sklearn/linear_model/coordinate_descent.py:492: ConvergenceWarning: Objective did not converge. You might want to increase the number of iterations. Fitting data with very small alpha may cause precision problems.\n",
      "  ConvergenceWarning)\n",
      "/Users/guanmingshen/anaconda3/envs/guanming/lib/python3.7/site-packages/sklearn/linear_model/coordinate_descent.py:492: ConvergenceWarning: Objective did not converge. You might want to increase the number of iterations. Fitting data with very small alpha may cause precision problems.\n",
      "  ConvergenceWarning)\n",
      "/Users/guanmingshen/anaconda3/envs/guanming/lib/python3.7/site-packages/sklearn/linear_model/coordinate_descent.py:492: ConvergenceWarning: Objective did not converge. You might want to increase the number of iterations. Fitting data with very small alpha may cause precision problems.\n",
      "  ConvergenceWarning)\n",
      "/Users/guanmingshen/anaconda3/envs/guanming/lib/python3.7/site-packages/sklearn/linear_model/coordinate_descent.py:492: ConvergenceWarning: Objective did not converge. You might want to increase the number of iterations. Fitting data with very small alpha may cause precision problems.\n",
      "  ConvergenceWarning)\n",
      "/Users/guanmingshen/anaconda3/envs/guanming/lib/python3.7/site-packages/sklearn/linear_model/coordinate_descent.py:492: ConvergenceWarning: Objective did not converge. You might want to increase the number of iterations. Fitting data with very small alpha may cause precision problems.\n",
      "  ConvergenceWarning)\n",
      "/Users/guanmingshen/anaconda3/envs/guanming/lib/python3.7/site-packages/sklearn/linear_model/coordinate_descent.py:492: ConvergenceWarning: Objective did not converge. You might want to increase the number of iterations. Fitting data with very small alpha may cause precision problems.\n",
      "  ConvergenceWarning)\n",
      "/Users/guanmingshen/anaconda3/envs/guanming/lib/python3.7/site-packages/sklearn/linear_model/coordinate_descent.py:492: ConvergenceWarning: Objective did not converge. You might want to increase the number of iterations. Fitting data with very small alpha may cause precision problems.\n",
      "  ConvergenceWarning)\n",
      "/Users/guanmingshen/anaconda3/envs/guanming/lib/python3.7/site-packages/sklearn/linear_model/coordinate_descent.py:492: ConvergenceWarning: Objective did not converge. You might want to increase the number of iterations. Fitting data with very small alpha may cause precision problems.\n",
      "  ConvergenceWarning)\n",
      "/Users/guanmingshen/anaconda3/envs/guanming/lib/python3.7/site-packages/sklearn/linear_model/coordinate_descent.py:492: ConvergenceWarning: Objective did not converge. You might want to increase the number of iterations. Fitting data with very small alpha may cause precision problems.\n",
      "  ConvergenceWarning)\n",
      "/Users/guanmingshen/anaconda3/envs/guanming/lib/python3.7/site-packages/sklearn/linear_model/coordinate_descent.py:492: ConvergenceWarning: Objective did not converge. You might want to increase the number of iterations. Fitting data with very small alpha may cause precision problems.\n",
      "  ConvergenceWarning)\n",
      "/Users/guanmingshen/anaconda3/envs/guanming/lib/python3.7/site-packages/sklearn/linear_model/coordinate_descent.py:492: ConvergenceWarning: Objective did not converge. You might want to increase the number of iterations. Fitting data with very small alpha may cause precision problems.\n",
      "  ConvergenceWarning)\n",
      "/Users/guanmingshen/anaconda3/envs/guanming/lib/python3.7/site-packages/sklearn/linear_model/coordinate_descent.py:492: ConvergenceWarning: Objective did not converge. You might want to increase the number of iterations. Fitting data with very small alpha may cause precision problems.\n",
      "  ConvergenceWarning)\n",
      "/Users/guanmingshen/anaconda3/envs/guanming/lib/python3.7/site-packages/sklearn/linear_model/coordinate_descent.py:492: ConvergenceWarning: Objective did not converge. You might want to increase the number of iterations. Fitting data with very small alpha may cause precision problems.\n",
      "  ConvergenceWarning)\n",
      "/Users/guanmingshen/anaconda3/envs/guanming/lib/python3.7/site-packages/sklearn/linear_model/coordinate_descent.py:492: ConvergenceWarning: Objective did not converge. You might want to increase the number of iterations. Fitting data with very small alpha may cause precision problems.\n",
      "  ConvergenceWarning)\n",
      "/Users/guanmingshen/anaconda3/envs/guanming/lib/python3.7/site-packages/sklearn/linear_model/coordinate_descent.py:492: ConvergenceWarning: Objective did not converge. You might want to increase the number of iterations. Fitting data with very small alpha may cause precision problems.\n",
      "  ConvergenceWarning)\n",
      "/Users/guanmingshen/anaconda3/envs/guanming/lib/python3.7/site-packages/sklearn/linear_model/coordinate_descent.py:492: ConvergenceWarning: Objective did not converge. You might want to increase the number of iterations. Fitting data with very small alpha may cause precision problems.\n",
      "  ConvergenceWarning)\n",
      "/Users/guanmingshen/anaconda3/envs/guanming/lib/python3.7/site-packages/sklearn/linear_model/coordinate_descent.py:492: ConvergenceWarning: Objective did not converge. You might want to increase the number of iterations. Fitting data with very small alpha may cause precision problems.\n",
      "  ConvergenceWarning)\n",
      "/Users/guanmingshen/anaconda3/envs/guanming/lib/python3.7/site-packages/sklearn/linear_model/coordinate_descent.py:492: ConvergenceWarning: Objective did not converge. You might want to increase the number of iterations. Fitting data with very small alpha may cause precision problems.\n",
      "  ConvergenceWarning)\n",
      "/Users/guanmingshen/anaconda3/envs/guanming/lib/python3.7/site-packages/sklearn/linear_model/coordinate_descent.py:492: ConvergenceWarning: Objective did not converge. You might want to increase the number of iterations. Fitting data with very small alpha may cause precision problems.\n",
      "  ConvergenceWarning)\n",
      "/Users/guanmingshen/anaconda3/envs/guanming/lib/python3.7/site-packages/sklearn/linear_model/coordinate_descent.py:492: ConvergenceWarning: Objective did not converge. You might want to increase the number of iterations. Fitting data with very small alpha may cause precision problems.\n",
      "  ConvergenceWarning)\n",
      "/Users/guanmingshen/anaconda3/envs/guanming/lib/python3.7/site-packages/sklearn/linear_model/coordinate_descent.py:492: ConvergenceWarning: Objective did not converge. You might want to increase the number of iterations. Fitting data with very small alpha may cause precision problems.\n",
      "  ConvergenceWarning)\n",
      "/Users/guanmingshen/anaconda3/envs/guanming/lib/python3.7/site-packages/sklearn/linear_model/coordinate_descent.py:492: ConvergenceWarning: Objective did not converge. You might want to increase the number of iterations. Fitting data with very small alpha may cause precision problems.\n",
      "  ConvergenceWarning)\n",
      "/Users/guanmingshen/anaconda3/envs/guanming/lib/python3.7/site-packages/sklearn/linear_model/coordinate_descent.py:492: ConvergenceWarning: Objective did not converge. You might want to increase the number of iterations. Fitting data with very small alpha may cause precision problems.\n",
      "  ConvergenceWarning)\n",
      "/Users/guanmingshen/anaconda3/envs/guanming/lib/python3.7/site-packages/sklearn/linear_model/coordinate_descent.py:492: ConvergenceWarning: Objective did not converge. You might want to increase the number of iterations. Fitting data with very small alpha may cause precision problems.\n",
      "  ConvergenceWarning)\n",
      "/Users/guanmingshen/anaconda3/envs/guanming/lib/python3.7/site-packages/sklearn/linear_model/coordinate_descent.py:492: ConvergenceWarning: Objective did not converge. You might want to increase the number of iterations. Fitting data with very small alpha may cause precision problems.\n",
      "  ConvergenceWarning)\n",
      "/Users/guanmingshen/anaconda3/envs/guanming/lib/python3.7/site-packages/sklearn/linear_model/coordinate_descent.py:492: ConvergenceWarning: Objective did not converge. You might want to increase the number of iterations. Fitting data with very small alpha may cause precision problems.\n",
      "  ConvergenceWarning)\n"
     ]
    },
    {
     "name": "stderr",
     "output_type": "stream",
     "text": [
      "/Users/guanmingshen/anaconda3/envs/guanming/lib/python3.7/site-packages/sklearn/linear_model/coordinate_descent.py:492: ConvergenceWarning: Objective did not converge. You might want to increase the number of iterations. Fitting data with very small alpha may cause precision problems.\n",
      "  ConvergenceWarning)\n",
      "/Users/guanmingshen/anaconda3/envs/guanming/lib/python3.7/site-packages/sklearn/linear_model/coordinate_descent.py:492: ConvergenceWarning: Objective did not converge. You might want to increase the number of iterations. Fitting data with very small alpha may cause precision problems.\n",
      "  ConvergenceWarning)\n",
      "/Users/guanmingshen/anaconda3/envs/guanming/lib/python3.7/site-packages/sklearn/linear_model/coordinate_descent.py:492: ConvergenceWarning: Objective did not converge. You might want to increase the number of iterations. Fitting data with very small alpha may cause precision problems.\n",
      "  ConvergenceWarning)\n",
      "/Users/guanmingshen/anaconda3/envs/guanming/lib/python3.7/site-packages/sklearn/linear_model/coordinate_descent.py:492: ConvergenceWarning: Objective did not converge. You might want to increase the number of iterations. Fitting data with very small alpha may cause precision problems.\n",
      "  ConvergenceWarning)\n",
      "/Users/guanmingshen/anaconda3/envs/guanming/lib/python3.7/site-packages/sklearn/linear_model/coordinate_descent.py:492: ConvergenceWarning: Objective did not converge. You might want to increase the number of iterations. Fitting data with very small alpha may cause precision problems.\n",
      "  ConvergenceWarning)\n",
      "/Users/guanmingshen/anaconda3/envs/guanming/lib/python3.7/site-packages/sklearn/linear_model/coordinate_descent.py:492: ConvergenceWarning: Objective did not converge. You might want to increase the number of iterations. Fitting data with very small alpha may cause precision problems.\n",
      "  ConvergenceWarning)\n",
      "/Users/guanmingshen/anaconda3/envs/guanming/lib/python3.7/site-packages/sklearn/linear_model/coordinate_descent.py:492: ConvergenceWarning: Objective did not converge. You might want to increase the number of iterations. Fitting data with very small alpha may cause precision problems.\n",
      "  ConvergenceWarning)\n",
      "/Users/guanmingshen/anaconda3/envs/guanming/lib/python3.7/site-packages/sklearn/linear_model/coordinate_descent.py:492: ConvergenceWarning: Objective did not converge. You might want to increase the number of iterations. Fitting data with very small alpha may cause precision problems.\n",
      "  ConvergenceWarning)\n",
      "/Users/guanmingshen/anaconda3/envs/guanming/lib/python3.7/site-packages/sklearn/linear_model/coordinate_descent.py:492: ConvergenceWarning: Objective did not converge. You might want to increase the number of iterations. Fitting data with very small alpha may cause precision problems.\n",
      "  ConvergenceWarning)\n",
      "/Users/guanmingshen/anaconda3/envs/guanming/lib/python3.7/site-packages/sklearn/linear_model/coordinate_descent.py:492: ConvergenceWarning: Objective did not converge. You might want to increase the number of iterations. Fitting data with very small alpha may cause precision problems.\n",
      "  ConvergenceWarning)\n",
      "/Users/guanmingshen/anaconda3/envs/guanming/lib/python3.7/site-packages/sklearn/linear_model/coordinate_descent.py:492: ConvergenceWarning: Objective did not converge. You might want to increase the number of iterations. Fitting data with very small alpha may cause precision problems.\n",
      "  ConvergenceWarning)\n",
      "/Users/guanmingshen/anaconda3/envs/guanming/lib/python3.7/site-packages/sklearn/linear_model/coordinate_descent.py:492: ConvergenceWarning: Objective did not converge. You might want to increase the number of iterations. Fitting data with very small alpha may cause precision problems.\n",
      "  ConvergenceWarning)\n",
      "/Users/guanmingshen/anaconda3/envs/guanming/lib/python3.7/site-packages/sklearn/linear_model/coordinate_descent.py:492: ConvergenceWarning: Objective did not converge. You might want to increase the number of iterations. Fitting data with very small alpha may cause precision problems.\n",
      "  ConvergenceWarning)\n",
      "/Users/guanmingshen/anaconda3/envs/guanming/lib/python3.7/site-packages/sklearn/linear_model/coordinate_descent.py:492: ConvergenceWarning: Objective did not converge. You might want to increase the number of iterations. Fitting data with very small alpha may cause precision problems.\n",
      "  ConvergenceWarning)\n",
      "/Users/guanmingshen/anaconda3/envs/guanming/lib/python3.7/site-packages/sklearn/linear_model/coordinate_descent.py:492: ConvergenceWarning: Objective did not converge. You might want to increase the number of iterations. Fitting data with very small alpha may cause precision problems.\n",
      "  ConvergenceWarning)\n",
      "/Users/guanmingshen/anaconda3/envs/guanming/lib/python3.7/site-packages/sklearn/linear_model/coordinate_descent.py:492: ConvergenceWarning: Objective did not converge. You might want to increase the number of iterations. Fitting data with very small alpha may cause precision problems.\n",
      "  ConvergenceWarning)\n",
      "/Users/guanmingshen/anaconda3/envs/guanming/lib/python3.7/site-packages/sklearn/linear_model/coordinate_descent.py:492: ConvergenceWarning: Objective did not converge. You might want to increase the number of iterations. Fitting data with very small alpha may cause precision problems.\n",
      "  ConvergenceWarning)\n",
      "/Users/guanmingshen/anaconda3/envs/guanming/lib/python3.7/site-packages/sklearn/linear_model/coordinate_descent.py:492: ConvergenceWarning: Objective did not converge. You might want to increase the number of iterations. Fitting data with very small alpha may cause precision problems.\n",
      "  ConvergenceWarning)\n",
      "/Users/guanmingshen/anaconda3/envs/guanming/lib/python3.7/site-packages/sklearn/linear_model/coordinate_descent.py:492: ConvergenceWarning: Objective did not converge. You might want to increase the number of iterations. Fitting data with very small alpha may cause precision problems.\n",
      "  ConvergenceWarning)\n",
      "/Users/guanmingshen/anaconda3/envs/guanming/lib/python3.7/site-packages/sklearn/linear_model/coordinate_descent.py:492: ConvergenceWarning: Objective did not converge. You might want to increase the number of iterations. Fitting data with very small alpha may cause precision problems.\n",
      "  ConvergenceWarning)\n",
      "/Users/guanmingshen/anaconda3/envs/guanming/lib/python3.7/site-packages/sklearn/linear_model/coordinate_descent.py:492: ConvergenceWarning: Objective did not converge. You might want to increase the number of iterations. Fitting data with very small alpha may cause precision problems.\n",
      "  ConvergenceWarning)\n",
      "/Users/guanmingshen/anaconda3/envs/guanming/lib/python3.7/site-packages/sklearn/linear_model/coordinate_descent.py:492: ConvergenceWarning: Objective did not converge. You might want to increase the number of iterations. Fitting data with very small alpha may cause precision problems.\n",
      "  ConvergenceWarning)\n",
      "/Users/guanmingshen/anaconda3/envs/guanming/lib/python3.7/site-packages/sklearn/linear_model/coordinate_descent.py:492: ConvergenceWarning: Objective did not converge. You might want to increase the number of iterations. Fitting data with very small alpha may cause precision problems.\n",
      "  ConvergenceWarning)\n",
      "/Users/guanmingshen/anaconda3/envs/guanming/lib/python3.7/site-packages/sklearn/linear_model/coordinate_descent.py:492: ConvergenceWarning: Objective did not converge. You might want to increase the number of iterations. Fitting data with very small alpha may cause precision problems.\n",
      "  ConvergenceWarning)\n",
      "/Users/guanmingshen/anaconda3/envs/guanming/lib/python3.7/site-packages/sklearn/linear_model/coordinate_descent.py:492: ConvergenceWarning: Objective did not converge. You might want to increase the number of iterations. Fitting data with very small alpha may cause precision problems.\n",
      "  ConvergenceWarning)\n",
      "/Users/guanmingshen/anaconda3/envs/guanming/lib/python3.7/site-packages/sklearn/linear_model/coordinate_descent.py:492: ConvergenceWarning: Objective did not converge. You might want to increase the number of iterations. Fitting data with very small alpha may cause precision problems.\n",
      "  ConvergenceWarning)\n",
      "/Users/guanmingshen/anaconda3/envs/guanming/lib/python3.7/site-packages/sklearn/linear_model/coordinate_descent.py:492: ConvergenceWarning: Objective did not converge. You might want to increase the number of iterations. Fitting data with very small alpha may cause precision problems.\n",
      "  ConvergenceWarning)\n"
     ]
    },
    {
     "name": "stderr",
     "output_type": "stream",
     "text": [
      "/Users/guanmingshen/anaconda3/envs/guanming/lib/python3.7/site-packages/sklearn/linear_model/coordinate_descent.py:492: ConvergenceWarning: Objective did not converge. You might want to increase the number of iterations. Fitting data with very small alpha may cause precision problems.\n",
      "  ConvergenceWarning)\n",
      "/Users/guanmingshen/anaconda3/envs/guanming/lib/python3.7/site-packages/sklearn/linear_model/coordinate_descent.py:492: ConvergenceWarning: Objective did not converge. You might want to increase the number of iterations. Fitting data with very small alpha may cause precision problems.\n",
      "  ConvergenceWarning)\n",
      "/Users/guanmingshen/anaconda3/envs/guanming/lib/python3.7/site-packages/sklearn/linear_model/coordinate_descent.py:492: ConvergenceWarning: Objective did not converge. You might want to increase the number of iterations. Fitting data with very small alpha may cause precision problems.\n",
      "  ConvergenceWarning)\n",
      "/Users/guanmingshen/anaconda3/envs/guanming/lib/python3.7/site-packages/sklearn/linear_model/coordinate_descent.py:492: ConvergenceWarning: Objective did not converge. You might want to increase the number of iterations. Fitting data with very small alpha may cause precision problems.\n",
      "  ConvergenceWarning)\n",
      "/Users/guanmingshen/anaconda3/envs/guanming/lib/python3.7/site-packages/sklearn/linear_model/coordinate_descent.py:492: ConvergenceWarning: Objective did not converge. You might want to increase the number of iterations. Fitting data with very small alpha may cause precision problems.\n",
      "  ConvergenceWarning)\n",
      "/Users/guanmingshen/anaconda3/envs/guanming/lib/python3.7/site-packages/sklearn/linear_model/coordinate_descent.py:492: ConvergenceWarning: Objective did not converge. You might want to increase the number of iterations. Fitting data with very small alpha may cause precision problems.\n",
      "  ConvergenceWarning)\n",
      "/Users/guanmingshen/anaconda3/envs/guanming/lib/python3.7/site-packages/sklearn/linear_model/coordinate_descent.py:492: ConvergenceWarning: Objective did not converge. You might want to increase the number of iterations. Fitting data with very small alpha may cause precision problems.\n",
      "  ConvergenceWarning)\n",
      "/Users/guanmingshen/anaconda3/envs/guanming/lib/python3.7/site-packages/sklearn/linear_model/coordinate_descent.py:492: ConvergenceWarning: Objective did not converge. You might want to increase the number of iterations. Fitting data with very small alpha may cause precision problems.\n",
      "  ConvergenceWarning)\n",
      "/Users/guanmingshen/anaconda3/envs/guanming/lib/python3.7/site-packages/sklearn/linear_model/coordinate_descent.py:492: ConvergenceWarning: Objective did not converge. You might want to increase the number of iterations. Fitting data with very small alpha may cause precision problems.\n",
      "  ConvergenceWarning)\n"
     ]
    },
    {
     "data": {
      "image/png": "[encoded data removed]",
      "text/plain": [
       "<Figure size 432x288 with 1 Axes>"
      ]
     },
     "metadata": {
      "needs_background": "light"
     },
     "output_type": "display_data"
    },
    {
     "name": "stdout",
     "output_type": "stream",
     "text": [
      "The optimaized alpha and score of Lasso polynomial is:  150.38869469554086 0.5764942758055258\n"
     ]
    },
    {
     "data": {
      "text/plain": [
       "Lasso(alpha=150.38869469554086, copy_X=True, fit_intercept=True,\n",
       "   max_iter=1000, normalize=False, positive=False, precompute=False,\n",
       "   random_state=None, selection='cyclic', tol=0.0001, warm_start=False)"
      ]
     },
     "execution_count": 139,
     "metadata": {},
     "output_type": "execute_result"
    }
   ],
   "source": [
    "from sklearn.preprocessing import PolynomialFeatures\n",
    "\n",
    "poly = PolynomialFeatures(2)\n",
    "\n",
    "lr_train, lr_validate = train_test_split(model_train, test_size=0.15, random_state = 0)\n",
    "\n",
    "lr_train_x = lr_train.drop(['video_id', 'cvt_per_day'], axis = 1)\n",
    "lr_validate_x = lr_validate.drop(['video_id', 'cvt_per_day'], axis = 1)\n",
    "\n",
    "lr_train_xp = poly.fit_transform(lr_train_x)\n",
    "lr_validate_xp = poly.fit_transform(lr_validate_x)\n",
    "lr_train_y = lr_train['cvt_per_day']\n",
    "lr_validate_y = lr_validate['cvt_per_day']\n",
    "\n",
    "# lr_train_xp = pd.DataFrame(data=lr_train_xp, index=data[:], columns=data[0,1:]) \n",
    "\n",
    "alphas = np.logspace (-2.6, 2.5, num=80)\n",
    "# alphas= [1]\n",
    "scores = np.empty_like(alphas)\n",
    "opt_a = float('-inf')\n",
    "max_score = float('-inf')\n",
    "for i, a in enumerate(alphas):\n",
    "    lasso = sl.linear_model.Lasso()\n",
    "    lasso.set_params(alpha = a)\n",
    "    lasso.fit(lr_train_xp, lr_train_y)\n",
    "    scores[i] = lasso.score(lr_validate_xp, lr_validate_y)\n",
    "    if scores[i] > max_score:\n",
    "        max_score = scores[i]\n",
    "        opt_a = a\n",
    "        lasso_save = lasso\n",
    "        \n",
    "plt.plot(alphas, scores, color='b', linestyle='dashed', marker='o',markerfacecolor='blue', markersize=6)\n",
    "plt.xlabel('alpha')\n",
    "plt.ylabel('score')\n",
    "plt.grid(True)\n",
    "plt.title('score vs. alpha')\n",
    "plt.show()\n",
    "print('The optimaized alpha and score of Lasso polynomial is: ', opt_a, max_score)\n",
    "\n",
    "# combine the validate data and training data, use the optimal alpha, re-train the model\n",
    "lr_train_xp1 = poly.fit_transform(model_train_x)\n",
    "\n",
    "lasso_fp = sl.linear_model.Lasso()\n",
    "lasso_fp.set_params(alpha = opt_a)\n",
    "lasso_fp.fit(lr_train_xp1, model_train_y)\n",
    "\n",
    "# lasso_fp is the Lasso model (polynomial feature), to be tested with test data."
   ]
  },
  {
   "cell_type": "code",
   "execution_count": 141,
   "metadata": {},
   "outputs": [
    {
     "data": {
      "text/plain": [
       "Lasso(alpha=150.38869469554086, copy_X=True, fit_intercept=True,\n",
       "   max_iter=1000, normalize=False, positive=False, precompute=False,\n",
       "   random_state=None, selection='cyclic', tol=0.0001, warm_start=False)"
      ]
     },
     "execution_count": 141,
     "metadata": {},
     "output_type": "execute_result"
    }
   ],
   "source": [
    "# combine the validate data and training data, use the optimal alpha, re-train the model\n",
    "lr_train_xp1 = poly.fit_transform(model_train_x)\n",
    "\n",
    "lasso_fp = sl.linear_model.Lasso()\n",
    "lasso_fp.set_params(alpha = opt_a)\n",
    "lasso_fp.fit(lr_train_xp1, model_train_y)\n",
    "\n",
    "# lasso_fp is the Lasso model (polynomial feature), to be tested with test data."
   ]
  },
  {
   "cell_type": "markdown",
   "metadata": {},
   "source": [
    "# 3.1.2 Ridge linear regression\n",
    "\n",
    "1) All featuers are linear"
   ]
  },
  {
   "cell_type": "code",
   "execution_count": 142,
   "metadata": {},
   "outputs": [
    {
     "data": {
      "image/png": "[encoded data removed]",
      "text/plain": [
       "<Figure size 432x288 with 1 Axes>"
      ]
     },
     "metadata": {
      "needs_background": "light"
     },
     "output_type": "display_data"
    },
    {
     "name": "stdout",
     "output_type": "stream",
     "text": [
      "0.35284634333100806 163.97026580002054\n"
     ]
    }
   ],
   "source": [
    "# Use the same training data set as Lasso (linear features)\n",
    "lr_train, lr_validate = train_test_split(model_train, test_size=0.15, random_state = 0)\n",
    "\n",
    "alphas = np.logspace (-10, 3, num=150)     # 自己调参，10的-10次方，到，10的3次方，中间取了150个点        \n",
    "# alphas= [0.000000001]\n",
    "scores = np.empty_like(alphas)\n",
    "opt_a = float('-inf')\n",
    "max_score = float('-inf')\n",
    "for i, a in enumerate(alphas):\n",
    "    ridge = sl.linear_model.Ridge()\n",
    "    ridge.set_params(alpha = a)\n",
    "    ridge.fit(lr_train_x, lr_train_y)\n",
    "    scores[i] = ridge.score(lr_validate_x, lr_validate_y)\n",
    "    if scores[i] > max_score:\n",
    "        max_score = scores[i]\n",
    "        opt_a = a\n",
    "        ridge_save = ridge\n",
    "plt.plot(alphas, scores, color='r', linestyle='dashed', marker='o',markerfacecolor='r', markersize=6)\n",
    "plt.xlabel('alpha')\n",
    "plt.ylabel('score')\n",
    "plt.grid(True)\n",
    "plt.title('score vs. alpha')\n",
    "plt.show()\n",
    "print(max_score, opt_a)\n",
    "\n",
    "\n",
    "# 用np.logspace ---------> 因为range太大 --------> 节约时间"
   ]
  },
  {
   "cell_type": "code",
   "execution_count": 144,
   "metadata": {},
   "outputs": [
    {
     "data": {
      "text/plain": [
       "Ridge(alpha=163.97026580002054, copy_X=True, fit_intercept=True,\n",
       "   max_iter=None, normalize=False, random_state=None, solver='auto',\n",
       "   tol=0.001)"
      ]
     },
     "execution_count": 144,
     "metadata": {},
     "output_type": "execute_result"
    }
   ],
   "source": [
    "# add the 15% validate data, use the optimal alpha, re-train the model\n",
    "\n",
    "ridge_f = sl.linear_model.Ridge()\n",
    "ridge_f.set_params(alpha = opt_a)\n",
    "ridge_f.fit(model_train_x, model_train_y)\n",
    "\n",
    "# ridge_f is the Ridge model (linear feature), to be tested with test data."
   ]
  },
  {
   "cell_type": "markdown",
   "metadata": {},
   "source": [
    "2) Polynomial featuers"
   ]
  },
  {
   "cell_type": "code",
   "execution_count": 148,
   "metadata": {},
   "outputs": [
    {
     "data": {
      "image/png": "[encoded data removed]",
      "text/plain": [
       "<Figure size 432x288 with 1 Axes>"
      ]
     },
     "metadata": {
      "needs_background": "light"
     },
     "output_type": "display_data"
    },
    {
     "name": "stdout",
     "output_type": "stream",
     "text": [
      "0.47188994690622155 14.38449888287663\n"
     ]
    }
   ],
   "source": [
    "# Use the same training data set as Lasso (polynomial features)\n",
    "from sklearn.preprocessing import PolynomialFeatures\n",
    "poly = PolynomialFeatures(2)\n",
    "\n",
    "lr_train, lr_validate = train_test_split(model_train, test_size=0.15, random_state = 0)\n",
    "\n",
    "lr_train_x = lr_train.drop(['video_id', 'cvt_per_day'], axis = 1)\n",
    "lr_validate_x = lr_validate.drop(['video_id', 'cvt_per_day'], axis = 1)\n",
    "lr_train_y = lr_train['cvt_per_day']\n",
    "lr_validate_y = lr_validate['cvt_per_day']\n",
    "\n",
    "lr_train_xp = poly.fit_transform(lr_train_x)\n",
    "lr_validate_xp = poly.fit_transform(lr_validate_x)\n",
    "\n",
    "alphas = np.logspace (-2, 2, num=20)\n",
    "# alphas= [1]\n",
    "scores = np.empty_like(alphas)\n",
    "opt_a = float('-inf')\n",
    "max_score = float('-inf')\n",
    "for i, a in enumerate(alphas):\n",
    "    ridge = sl.linear_model.Ridge()\n",
    "    ridge.set_params(alpha = a)\n",
    "    ridge.fit(lr_train_xp, lr_train_y)\n",
    "    scores[i] = ridge.score(lr_validate_xp, lr_validate_y)\n",
    "    if scores[i] > max_score:\n",
    "        max_score = scores[i]\n",
    "        opt_a = a\n",
    "        ridge_save = ridge\n",
    "        \n",
    "plt.plot(alphas, scores, color='green', linestyle='dashed', marker='o',markerfacecolor='pink', markersize=6)\n",
    "plt.xlabel('alpha')\n",
    "plt.ylabel('score')\n",
    "plt.grid(True)\n",
    "plt.title('score vs. alpha')\n",
    "plt.show()\n",
    "print(max_score, opt_a)\n"
   ]
  },
  {
   "cell_type": "code",
   "execution_count": 149,
   "metadata": {},
   "outputs": [
    {
     "data": {
      "text/plain": [
       "Ridge(alpha=14.38449888287663, copy_X=True, fit_intercept=True, max_iter=None,\n",
       "   normalize=False, random_state=None, solver='auto', tol=0.001)"
      ]
     },
     "execution_count": 149,
     "metadata": {},
     "output_type": "execute_result"
    }
   ],
   "source": [
    "# add the 15% validate data, use the optimal alpha, re-train the model\n",
    "lr_train_xp1 = poly.fit_transform(model_train_x)\n",
    "\n",
    "ridge_fp = sl.linear_model.Ridge()\n",
    "ridge_fp.set_params(alpha = opt_a)\n",
    "ridge_fp.fit(lr_train_xp1, model_train_y)\n",
    "\n",
    "# ridge_fp is the Ridge model (polynomial feature), to be tested with test data."
   ]
  },
  {
   "cell_type": "markdown",
   "metadata": {},
   "source": [
    "# 3.2: Non-linear model\n",
    "\n",
    "Random forest with Gridsearch cross-validation is used. \n",
    "\n",
    "The 'mean_scores' is used to narrow down the paramenters of n_estimator (number of trees in the forest) and Max_depth (maximum depth of the tree).\n",
    "\n",
    "Random forest"
   ]
  },
  {
   "cell_type": "code",
   "execution_count": 151,
   "metadata": {},
   "outputs": [
    {
     "data": {
      "text/plain": [
       "GridSearchCV(cv=5, error_score='raise-deprecating',\n",
       "       estimator=RandomForestRegressor(bootstrap=True, criterion='mse', max_depth=None,\n",
       "           max_features='sqrt', max_leaf_nodes=None,\n",
       "           min_impurity_decrease=0.0, min_impurity_split=None,\n",
       "           min_samples_leaf=1, min_samples_split=2,\n",
       "           min_weight_fraction_leaf=0.0, n_estimators='warn', n_jobs=None,\n",
       "           oob_score=False, random_state=2, verbose=0, warm_start=False),\n",
       "       fit_params=None, iid='warn', n_jobs=None,\n",
       "       param_grid={'n_estimators': [54, 55, 56, 57, 58, 59, 60, 62], 'max_depth': [12, 13, 14, 15, 16, 17]},\n",
       "       pre_dispatch='2*n_jobs', refit=True, return_train_score='warn',\n",
       "       scoring=None, verbose=0)"
      ]
     },
     "execution_count": 151,
     "metadata": {},
     "output_type": "execute_result"
    }
   ],
   "source": [
    "from sklearn.ensemble import RandomForestRegressor\n",
    "#from sklearn.cross_validation import cross_val_score\n",
    "from sklearn.model_selection import cross_validate\n",
    "# from sklearn.grid_search import GridSearchCV\n",
    "from sklearn.model_selection import GridSearchCV\n",
    "\n",
    "rf_train, rf_test = train_test_split(model_train, test_size=0.15, random_state = 0)\n",
    "\n",
    "rf_train_x = rf_train.drop(['video_id', 'cvt_per_day'], axis = 1)\n",
    "rf_test_x = rf_test.drop(['video_id', 'cvt_per_day'], axis = 1)\n",
    "rf_train_y = rf_train['cvt_per_day']\n",
    "rf_test_y = rf_test['cvt_per_day']\n",
    "\n",
    "param_grid = {\n",
    "                 'n_estimators': [54, 55, 56, 57, 58, 59, 60, 62],\n",
    "                 'max_depth': [12, 13, 14, 15, 16, 17]\n",
    "             }\n",
    "\n",
    "                # 这里只调了两个参数，Random forest要调很久，参数很多\n",
    "\n",
    "rf = RandomForestRegressor(random_state=2, max_features = 'sqrt')\n",
    "grid_rf = GridSearchCV(rf, param_grid, cv=5)\n",
    "grid_rf.fit(rf_train_x, rf_train_y)"
   ]
  },
  {
   "cell_type": "code",
   "execution_count": 152,
   "metadata": {},
   "outputs": [
    {
     "data": {
      "text/plain": [
       "{'max_depth': 14, 'n_estimators': 55}"
      ]
     },
     "execution_count": 152,
     "metadata": {},
     "output_type": "execute_result"
    }
   ],
   "source": [
    "grid_rf.best_params_ "
   ]
  },
  {
   "cell_type": "code",
   "execution_count": 153,
   "metadata": {},
   "outputs": [
    {
     "name": "stderr",
     "output_type": "stream",
     "text": [
      "/Users/guanmingshen/anaconda3/envs/guanming/lib/python3.7/site-packages/sklearn/utils/deprecation.py:125: FutureWarning: You are accessing a training score ('split0_train_score'), which will not be available by default any more in 0.21. If you need training scores, please set return_train_score=True\n",
      "  warnings.warn(*warn_args, **warn_kwargs)\n",
      "/Users/guanmingshen/anaconda3/envs/guanming/lib/python3.7/site-packages/sklearn/utils/deprecation.py:125: FutureWarning: You are accessing a training score ('split1_train_score'), which will not be available by default any more in 0.21. If you need training scores, please set return_train_score=True\n",
      "  warnings.warn(*warn_args, **warn_kwargs)\n",
      "/Users/guanmingshen/anaconda3/envs/guanming/lib/python3.7/site-packages/sklearn/utils/deprecation.py:125: FutureWarning: You are accessing a training score ('split2_train_score'), which will not be available by default any more in 0.21. If you need training scores, please set return_train_score=True\n",
      "  warnings.warn(*warn_args, **warn_kwargs)\n",
      "/Users/guanmingshen/anaconda3/envs/guanming/lib/python3.7/site-packages/sklearn/utils/deprecation.py:125: FutureWarning: You are accessing a training score ('split3_train_score'), which will not be available by default any more in 0.21. If you need training scores, please set return_train_score=True\n",
      "  warnings.warn(*warn_args, **warn_kwargs)\n",
      "/Users/guanmingshen/anaconda3/envs/guanming/lib/python3.7/site-packages/sklearn/utils/deprecation.py:125: FutureWarning: You are accessing a training score ('split4_train_score'), which will not be available by default any more in 0.21. If you need training scores, please set return_train_score=True\n",
      "  warnings.warn(*warn_args, **warn_kwargs)\n",
      "/Users/guanmingshen/anaconda3/envs/guanming/lib/python3.7/site-packages/sklearn/utils/deprecation.py:125: FutureWarning: You are accessing a training score ('mean_train_score'), which will not be available by default any more in 0.21. If you need training scores, please set return_train_score=True\n",
      "  warnings.warn(*warn_args, **warn_kwargs)\n",
      "/Users/guanmingshen/anaconda3/envs/guanming/lib/python3.7/site-packages/sklearn/utils/deprecation.py:125: FutureWarning: You are accessing a training score ('std_train_score'), which will not be available by default any more in 0.21. If you need training scores, please set return_train_score=True\n",
      "  warnings.warn(*warn_args, **warn_kwargs)\n"
     ]
    },
    {
     "data": {
      "text/plain": [
       "{'mean_fit_time': array([0.13845596, 0.11432056, 0.13553104, 0.11490054, 0.11806035,\n",
       "        0.11907239, 0.12218394, 0.12616258, 0.12589707, 0.1233892 ,\n",
       "        0.1298378 , 0.13595891, 0.13206811, 0.15514007, 0.13364086,\n",
       "        0.13532519, 0.13340263, 0.13237309, 0.13654332, 0.13822474,\n",
       "        0.1522378 , 0.14553785, 0.14500909, 0.15836635, 0.19288478,\n",
       "        0.15343914, 0.14614763, 0.14700427, 0.1473546 , 0.1507071 ,\n",
       "        0.16745877, 0.17367282, 0.15281167, 0.15652184, 0.16637702,\n",
       "        0.16274867, 0.15927887, 0.1541204 , 0.16008263, 0.16064429,\n",
       "        0.14891324, 0.14900045, 0.15385656, 0.15555563, 0.15622587,\n",
       "        0.159554  , 0.16286883, 0.16805534]),\n",
       " 'std_fit_time': array([0.02620228, 0.00350143, 0.02689378, 0.00078316, 0.00271624,\n",
       "        0.00088121, 0.00105356, 0.0022076 , 0.00597917, 0.00296052,\n",
       "        0.00923024, 0.00450607, 0.00421158, 0.02041909, 0.00162924,\n",
       "        0.00206055, 0.00673177, 0.00162813, 0.00189836, 0.00406113,\n",
       "        0.02290909, 0.00232756, 0.00166255, 0.01221152, 0.01082144,\n",
       "        0.02314433, 0.00186129, 0.00275558, 0.00170046, 0.00225313,\n",
       "        0.01488982, 0.01037466, 0.00777283, 0.00785202, 0.02588613,\n",
       "        0.00879931, 0.01131238, 0.00249459, 0.00564693, 0.00135524,\n",
       "        0.00425792, 0.00275937, 0.00287499, 0.00442086, 0.0025112 ,\n",
       "        0.00368426, 0.00380748, 0.00291463]),\n",
       " 'mean_score_time': array([0.00720558, 0.00650539, 0.00667462, 0.00628614, 0.00619211,\n",
       "        0.00643539, 0.00641584, 0.00673161, 0.00679607, 0.00670977,\n",
       "        0.00809779, 0.00729632, 0.00683546, 0.00817962, 0.00702262,\n",
       "        0.0070539 , 0.00707741, 0.0068244 , 0.00719666, 0.00706382,\n",
       "        0.00736547, 0.00735598, 0.00761657, 0.00890799, 0.01019444,\n",
       "        0.00748806, 0.00775318, 0.00745201, 0.00750265, 0.00778956,\n",
       "        0.00935264, 0.00909624, 0.00801787, 0.00856214, 0.00798616,\n",
       "        0.00834913, 0.00791168, 0.00761304, 0.0086082 , 0.00811539,\n",
       "        0.0074234 , 0.00750532, 0.00764561, 0.00777159, 0.00775876,\n",
       "        0.00796065, 0.00839286, 0.00837927]),\n",
       " 'std_score_time': array([1.10483801e-03, 9.72363658e-04, 7.80131554e-04, 1.45170722e-04,\n",
       "        1.73148206e-04, 2.77328385e-04, 2.10252368e-04, 2.30281968e-04,\n",
       "        3.03624442e-04, 2.44642019e-04, 3.04183314e-03, 5.68496831e-04,\n",
       "        1.96871332e-04, 1.39701256e-03, 2.50787924e-04, 2.85378909e-04,\n",
       "        3.19765356e-04, 2.06184608e-04, 2.36128634e-04, 2.53704408e-04,\n",
       "        7.63376185e-04, 1.36363206e-04, 5.20287934e-04, 1.69171819e-03,\n",
       "        1.36337637e-03, 3.45855957e-04, 1.81510393e-04, 2.23712715e-04,\n",
       "        1.76149132e-04, 2.80604362e-04, 1.90202855e-03, 1.14135187e-03,\n",
       "        7.81628127e-04, 2.20251798e-03, 2.97206431e-04, 1.16920756e-03,\n",
       "        3.95935555e-04, 4.60799897e-05, 7.99603489e-04, 2.01788370e-04,\n",
       "        2.70612796e-04, 2.38587730e-04, 7.62440101e-05, 2.28464899e-04,\n",
       "        2.68265153e-04, 3.36131087e-04, 1.14228980e-03, 2.86469359e-04]),\n",
       " 'param_max_depth': masked_array(data=[12, 12, 12, 12, 12, 12, 12, 12, 13, 13, 13, 13, 13, 13,\n",
       "                    13, 13, 14, 14, 14, 14, 14, 14, 14, 14, 15, 15, 15, 15,\n",
       "                    15, 15, 15, 15, 16, 16, 16, 16, 16, 16, 16, 16, 17, 17,\n",
       "                    17, 17, 17, 17, 17, 17],\n",
       "              mask=[False, False, False, False, False, False, False, False,\n",
       "                    False, False, False, False, False, False, False, False,\n",
       "                    False, False, False, False, False, False, False, False,\n",
       "                    False, False, False, False, False, False, False, False,\n",
       "                    False, False, False, False, False, False, False, False,\n",
       "                    False, False, False, False, False, False, False, False],\n",
       "        fill_value='?',\n",
       "             dtype=object),\n",
       " 'param_n_estimators': masked_array(data=[54, 55, 56, 57, 58, 59, 60, 62, 54, 55, 56, 57, 58, 59,\n",
       "                    60, 62, 54, 55, 56, 57, 58, 59, 60, 62, 54, 55, 56, 57,\n",
       "                    58, 59, 60, 62, 54, 55, 56, 57, 58, 59, 60, 62, 54, 55,\n",
       "                    56, 57, 58, 59, 60, 62],\n",
       "              mask=[False, False, False, False, False, False, False, False,\n",
       "                    False, False, False, False, False, False, False, False,\n",
       "                    False, False, False, False, False, False, False, False,\n",
       "                    False, False, False, False, False, False, False, False,\n",
       "                    False, False, False, False, False, False, False, False,\n",
       "                    False, False, False, False, False, False, False, False],\n",
       "        fill_value='?',\n",
       "             dtype=object),\n",
       " 'params': [{'max_depth': 12, 'n_estimators': 54},\n",
       "  {'max_depth': 12, 'n_estimators': 55},\n",
       "  {'max_depth': 12, 'n_estimators': 56},\n",
       "  {'max_depth': 12, 'n_estimators': 57},\n",
       "  {'max_depth': 12, 'n_estimators': 58},\n",
       "  {'max_depth': 12, 'n_estimators': 59},\n",
       "  {'max_depth': 12, 'n_estimators': 60},\n",
       "  {'max_depth': 12, 'n_estimators': 62},\n",
       "  {'max_depth': 13, 'n_estimators': 54},\n",
       "  {'max_depth': 13, 'n_estimators': 55},\n",
       "  {'max_depth': 13, 'n_estimators': 56},\n",
       "  {'max_depth': 13, 'n_estimators': 57},\n",
       "  {'max_depth': 13, 'n_estimators': 58},\n",
       "  {'max_depth': 13, 'n_estimators': 59},\n",
       "  {'max_depth': 13, 'n_estimators': 60},\n",
       "  {'max_depth': 13, 'n_estimators': 62},\n",
       "  {'max_depth': 14, 'n_estimators': 54},\n",
       "  {'max_depth': 14, 'n_estimators': 55},\n",
       "  {'max_depth': 14, 'n_estimators': 56},\n",
       "  {'max_depth': 14, 'n_estimators': 57},\n",
       "  {'max_depth': 14, 'n_estimators': 58},\n",
       "  {'max_depth': 14, 'n_estimators': 59},\n",
       "  {'max_depth': 14, 'n_estimators': 60},\n",
       "  {'max_depth': 14, 'n_estimators': 62},\n",
       "  {'max_depth': 15, 'n_estimators': 54},\n",
       "  {'max_depth': 15, 'n_estimators': 55},\n",
       "  {'max_depth': 15, 'n_estimators': 56},\n",
       "  {'max_depth': 15, 'n_estimators': 57},\n",
       "  {'max_depth': 15, 'n_estimators': 58},\n",
       "  {'max_depth': 15, 'n_estimators': 59},\n",
       "  {'max_depth': 15, 'n_estimators': 60},\n",
       "  {'max_depth': 15, 'n_estimators': 62},\n",
       "  {'max_depth': 16, 'n_estimators': 54},\n",
       "  {'max_depth': 16, 'n_estimators': 55},\n",
       "  {'max_depth': 16, 'n_estimators': 56},\n",
       "  {'max_depth': 16, 'n_estimators': 57},\n",
       "  {'max_depth': 16, 'n_estimators': 58},\n",
       "  {'max_depth': 16, 'n_estimators': 59},\n",
       "  {'max_depth': 16, 'n_estimators': 60},\n",
       "  {'max_depth': 16, 'n_estimators': 62},\n",
       "  {'max_depth': 17, 'n_estimators': 54},\n",
       "  {'max_depth': 17, 'n_estimators': 55},\n",
       "  {'max_depth': 17, 'n_estimators': 56},\n",
       "  {'max_depth': 17, 'n_estimators': 57},\n",
       "  {'max_depth': 17, 'n_estimators': 58},\n",
       "  {'max_depth': 17, 'n_estimators': 59},\n",
       "  {'max_depth': 17, 'n_estimators': 60},\n",
       "  {'max_depth': 17, 'n_estimators': 62}],\n",
       " 'split0_test_score': array([0.42301795, 0.42715398, 0.42669942, 0.42156912, 0.41917115,\n",
       "        0.42237084, 0.42565869, 0.42818025, 0.43043043, 0.43416186,\n",
       "        0.43619781, 0.43140079, 0.42665508, 0.42591358, 0.42994387,\n",
       "        0.43108146, 0.40257283, 0.40745229, 0.4095722 , 0.40480644,\n",
       "        0.40848151, 0.40767618, 0.40921328, 0.41094359, 0.42931509,\n",
       "        0.43340381, 0.43053384, 0.42452152, 0.4233848 , 0.42536618,\n",
       "        0.42496738, 0.42785167, 0.42701586, 0.4307846 , 0.43498147,\n",
       "        0.43006578, 0.42894377, 0.43042114, 0.4288876 , 0.42964792,\n",
       "        0.41599939, 0.41920476, 0.41575876, 0.41013424, 0.41737253,\n",
       "        0.4190225 , 0.42171591, 0.42426228]),\n",
       " 'split1_test_score': array([0.47012626, 0.47467032, 0.47527819, 0.47428102, 0.47119363,\n",
       "        0.47001554, 0.46762924, 0.46898939, 0.4030352 , 0.40898265,\n",
       "        0.40663481, 0.40556739, 0.40838204, 0.40884434, 0.40703155,\n",
       "        0.40563049, 0.44545   , 0.44979216, 0.45129895, 0.44311522,\n",
       "        0.44447863, 0.43965376, 0.44246556, 0.44705402, 0.40137442,\n",
       "        0.40667956, 0.40819228, 0.4010897 , 0.40446861, 0.40520882,\n",
       "        0.40415839, 0.40666833, 0.41009086, 0.41545427, 0.41669336,\n",
       "        0.41648064, 0.42126523, 0.42188342, 0.41465434, 0.41741173,\n",
       "        0.34689932, 0.35621471, 0.36306516, 0.35429478, 0.35669947,\n",
       "        0.36022957, 0.35976153, 0.36203176]),\n",
       " 'split2_test_score': array([0.71633063, 0.72005232, 0.72203968, 0.72281764, 0.72796029,\n",
       "        0.72344875, 0.72275761, 0.72423366, 0.71210696, 0.71634445,\n",
       "        0.71537714, 0.72118911, 0.7244592 , 0.7225416 , 0.71873095,\n",
       "        0.71527851, 0.71569362, 0.71943224, 0.7204273 , 0.71997974,\n",
       "        0.72347399, 0.72446333, 0.72471916, 0.72586592, 0.6960515 ,\n",
       "        0.70100408, 0.69919628, 0.70166845, 0.70429673, 0.70447212,\n",
       "        0.70587189, 0.70481248, 0.69351934, 0.69899393, 0.70149377,\n",
       "        0.69784382, 0.7035952 , 0.70440713, 0.70277036, 0.70582813,\n",
       "        0.68826798, 0.6944656 , 0.69293257, 0.69667672, 0.70102136,\n",
       "        0.70003263, 0.6960922 , 0.69837994]),\n",
       " 'split3_test_score': array([0.48721848, 0.48971135, 0.48826336, 0.48529506, 0.48325443,\n",
       "        0.48548139, 0.48334105, 0.48308613, 0.5005854 , 0.50359234,\n",
       "        0.50175857, 0.49986865, 0.50053907, 0.49740141, 0.49219877,\n",
       "        0.48960027, 0.5257186 , 0.530646  , 0.53040502, 0.52456258,\n",
       "        0.5243599 , 0.52032659, 0.52016741, 0.52088599, 0.50146658,\n",
       "        0.50509301, 0.50911552, 0.50684781, 0.50341392, 0.49670997,\n",
       "        0.49570429, 0.49699629, 0.48708448, 0.49080795, 0.49198289,\n",
       "        0.49243751, 0.49218222, 0.49035119, 0.48726834, 0.48642052,\n",
       "        0.47644048, 0.47989052, 0.48464479, 0.48270057, 0.48465825,\n",
       "        0.48127121, 0.48379824, 0.48312651]),\n",
       " 'split4_test_score': array([0.54156018, 0.53767998, 0.54268954, 0.54309488, 0.54387064,\n",
       "        0.54724118, 0.54929807, 0.5361803 , 0.5085716 , 0.50807362,\n",
       "        0.51659241, 0.50809255, 0.50999393, 0.51578002, 0.51708697,\n",
       "        0.49909247, 0.58609522, 0.57999562, 0.57360808, 0.57441866,\n",
       "        0.58073072, 0.57578813, 0.57321109, 0.56074256, 0.48725864,\n",
       "        0.4825705 , 0.49123027, 0.49659995, 0.50007789, 0.49867969,\n",
       "        0.50592615, 0.4922211 , 0.5448888 , 0.54238461, 0.54518924,\n",
       "        0.54026787, 0.53533659, 0.53559338, 0.53615556, 0.51749194,\n",
       "        0.53127729, 0.52890099, 0.52630039, 0.5323148 , 0.53647603,\n",
       "        0.53937398, 0.53796318, 0.52294676]),\n",
       " 'mean_test_score': array([0.52765939, 0.52986418, 0.5310042 , 0.52942151, 0.5291002 ,\n",
       "        0.52972028, 0.52974572, 0.52814607, 0.51095009, 0.51423648,\n",
       "        0.51531617, 0.51322975, 0.51401159, 0.51410111, 0.5130039 ,\n",
       "        0.50814567, 0.53509243, 0.53745196, 0.53705252, 0.53336597,\n",
       "        0.53629431, 0.53357212, 0.53394696, 0.53309336, 0.50309897,\n",
       "        0.505758  , 0.50765854, 0.50614838, 0.50713192, 0.50609285,\n",
       "        0.50732988, 0.50571725, 0.5125176 , 0.51568448, 0.51806781,\n",
       "        0.51541851, 0.51626624, 0.51653358, 0.51394871, 0.51136621,\n",
       "        0.49176898, 0.49572964, 0.49653448, 0.49521617, 0.49923811,\n",
       "        0.49997921, 0.499859  , 0.49814625]),\n",
       " 'std_test_score': array([0.10170181, 0.1014609 , 0.10244403, 0.1041545 , 0.10708561,\n",
       "        0.10480037, 0.10441588, 0.10399032, 0.10839232, 0.10819177,\n",
       "        0.10799913, 0.11115689, 0.11253065, 0.11191578, 0.11040055,\n",
       "        0.10937698, 0.11039805, 0.10917256, 0.10830314, 0.11072264,\n",
       "        0.11131629, 0.1123438 , 0.11143674, 0.10994195, 0.10325763,\n",
       "        0.10367749, 0.10279554, 0.1058835 , 0.10632759, 0.10604554,\n",
       "        0.10679054, 0.10564749, 0.10226398, 0.10219607, 0.10224784,\n",
       "        0.10151873, 0.10268323, 0.10271523, 0.10391029, 0.10393734,\n",
       "        0.11591118, 0.11507285, 0.11311814, 0.11769444, 0.11779453,\n",
       "        0.11666079, 0.11488376, 0.11398362]),\n",
       " 'rank_test_score': array([16, 10,  9, 13, 14, 12, 11, 15, 31, 23, 22, 27, 25, 24, 28, 32,  4,\n",
       "         1,  2,  7,  3,  6,  5,  8, 40, 38, 33, 36, 35, 37, 34, 39, 29, 20,\n",
       "        17, 21, 19, 18, 26, 30, 48, 46, 45, 47, 43, 41, 42, 44],\n",
       "       dtype=int32),\n",
       " 'split0_train_score': array([0.92548316, 0.92499722, 0.92573812, 0.92669808, 0.92625867,\n",
       "        0.92539537, 0.92538033, 0.92597595, 0.92431863, 0.92400088,\n",
       "        0.92432537, 0.92562622, 0.92503773, 0.9244583 , 0.92427074,\n",
       "        0.92472465, 0.93293104, 0.93245139, 0.93327264, 0.9343581 ,\n",
       "        0.93397384, 0.93332719, 0.93314928, 0.93336084, 0.93549724,\n",
       "        0.93508189, 0.93542153, 0.93621256, 0.93546816, 0.93452036,\n",
       "        0.93456577, 0.93478053, 0.93552884, 0.93511446, 0.93537662,\n",
       "        0.93628386, 0.93609818, 0.93556971, 0.93559556, 0.93631573,\n",
       "        0.93192191, 0.93155403, 0.93203917, 0.93305851, 0.93289495,\n",
       "        0.9325743 , 0.93306397, 0.9334145 ]),\n",
       " 'split1_train_score': array([0.91550057, 0.91487404, 0.91512799, 0.91542169, 0.91512462,\n",
       "        0.91420514, 0.9148994 , 0.91604883, 0.91175113, 0.91138413,\n",
       "        0.9118807 , 0.91281684, 0.91273889, 0.91211106, 0.91318986,\n",
       "        0.91457331, 0.9147947 , 0.91403534, 0.91433973, 0.91527174,\n",
       "        0.916141  , 0.91707502, 0.9175675 , 0.91869627, 0.91795305,\n",
       "        0.91712073, 0.91743978, 0.91912076, 0.91910863, 0.91889727,\n",
       "        0.92018186, 0.92146701, 0.91925012, 0.9183503 , 0.91878897,\n",
       "        0.92033773, 0.92004527, 0.91937185, 0.92056656, 0.92183947,\n",
       "        0.91484397, 0.91445993, 0.91524615, 0.91606797, 0.91661293,\n",
       "        0.91660174, 0.91793439, 0.91961098]),\n",
       " 'split2_train_score': array([0.89919051, 0.89985364, 0.90191347, 0.9025231 , 0.90237918,\n",
       "        0.90155975, 0.90283039, 0.90293355, 0.90054112, 0.9013051 ,\n",
       "        0.90218705, 0.90326729, 0.9023555 , 0.90145443, 0.90250205,\n",
       "        0.90236723, 0.90445655, 0.90537124, 0.90614474, 0.90707542,\n",
       "        0.90733719, 0.90634063, 0.9080092 , 0.90834655, 0.90460102,\n",
       "        0.90572544, 0.90631626, 0.90756932, 0.90713868, 0.90627943,\n",
       "        0.90760779, 0.90778002, 0.90189388, 0.90316564, 0.90405802,\n",
       "        0.90564527, 0.90531   , 0.90441123, 0.90628302, 0.90721509,\n",
       "        0.90854242, 0.9096005 , 0.91012659, 0.91148104, 0.91103265,\n",
       "        0.91045982, 0.91208799, 0.91261142]),\n",
       " 'split3_train_score': array([0.90226686, 0.90314044, 0.90437155, 0.90608025, 0.90571283,\n",
       "        0.90579717, 0.90776431, 0.90889206, 0.90360907, 0.90461203,\n",
       "        0.90496486, 0.90673093, 0.90689475, 0.90732059, 0.9092897 ,\n",
       "        0.91114371, 0.91504022, 0.91589528, 0.9166267 , 0.91814291,\n",
       "        0.9177607 , 0.91763366, 0.91936238, 0.92047342, 0.91059637,\n",
       "        0.91152929, 0.91221782, 0.91407043, 0.91342705, 0.91269658,\n",
       "        0.91461326, 0.91613769, 0.91589848, 0.91678475, 0.91744535,\n",
       "        0.91874073, 0.91945979, 0.91849203, 0.92031963, 0.92165862,\n",
       "        0.90937882, 0.91042498, 0.91121936, 0.91323286, 0.91310422,\n",
       "        0.91238518, 0.91415682, 0.91549364]),\n",
       " 'split4_train_score': array([0.90519558, 0.90613265, 0.90800121, 0.90952091, 0.90956294,\n",
       "        0.90895849, 0.91072241, 0.91102871, 0.90447806, 0.90566686,\n",
       "        0.90744205, 0.90884011, 0.90940142, 0.90929523, 0.91071589,\n",
       "        0.91106472, 0.90922515, 0.9102605 , 0.91063897, 0.91232509,\n",
       "        0.91304221, 0.91259358, 0.9139191 , 0.91428969, 0.91746755,\n",
       "        0.91826013, 0.9189678 , 0.92016421, 0.92112262, 0.92087626,\n",
       "        0.9223562 , 0.92242374, 0.91697454, 0.91783498, 0.91879638,\n",
       "        0.92017139, 0.92176008, 0.92090996, 0.92269893, 0.92265201,\n",
       "        0.91651801, 0.91791219, 0.91922926, 0.92066689, 0.92133213,\n",
       "        0.92050927, 0.92205906, 0.92228404]),\n",
       " 'mean_train_score': array([0.90952734, 0.9097996 , 0.91103047, 0.91204881, 0.91180765,\n",
       "        0.91118318, 0.91231937, 0.91297582, 0.9089396 , 0.9093938 ,\n",
       "        0.91016001, 0.91145628, 0.91128566, 0.91092792, 0.91199365,\n",
       "        0.91277472, 0.91528953, 0.91560275, 0.91620456, 0.91743465,\n",
       "        0.91765099, 0.91739401, 0.91840149, 0.91903335, 0.91722305,\n",
       "        0.9175435 , 0.91807264, 0.91942746, 0.91925303, 0.91865398,\n",
       "        0.91986497, 0.9205178 , 0.91790917, 0.91825002, 0.91889307,\n",
       "        0.9202358 , 0.92053466, 0.91975095, 0.92109274, 0.92193618,\n",
       "        0.91624103, 0.91679032, 0.91757211, 0.91890146, 0.91899538,\n",
       "        0.91850606, 0.91986045, 0.92068292]),\n",
       " 'std_train_score': array([0.00968087, 0.00909319, 0.00859933, 0.00847031, 0.00837754,\n",
       "        0.00821812, 0.00762345, 0.0077429 , 0.00852378, 0.00799388,\n",
       "        0.00776612, 0.00773138, 0.00766563, 0.00761441, 0.00708791,\n",
       "        0.00721021, 0.00965049, 0.00916125, 0.00924285, 0.00921959,\n",
       "        0.00890329, 0.00893584, 0.00833316, 0.00829668, 0.0103708 ,\n",
       "        0.00983997, 0.00974348, 0.00950463, 0.00945671, 0.0094378 ,\n",
       "        0.00894694, 0.00882491, 0.01071127, 0.01014177, 0.00993883,\n",
       "        0.0097229 , 0.00976637, 0.00988546, 0.00930714, 0.00920957,\n",
       "        0.00841756, 0.00796075, 0.00791512, 0.00772998, 0.00777747,\n",
       "        0.00784553, 0.00742723, 0.00718169])}"
      ]
     },
     "execution_count": 153,
     "metadata": {},
     "output_type": "execute_result"
    }
   ],
   "source": [
    "grid_rf.cv_results_"
   ]
  },
  {
   "cell_type": "code",
   "execution_count": 159,
   "metadata": {},
   "outputs": [
    {
     "data": {
      "image/png": "[encoded data removed]",
      "text/plain": [
       "<Figure size 432x288 with 1 Axes>"
      ]
     },
     "metadata": {
      "needs_background": "light"
     },
     "output_type": "display_data"
    }
   ],
   "source": [
    "# plot the effect of different number of trees and maximum tree-depth druing cross validation \n",
    "scores = grid_rf.cv_results_['mean_test_score']\n",
    "n_est = [54, 55, 56, 57, 58, 59, 60, 62]\n",
    "m_depth=[12, 13, 14, 15, 16, 17]\n",
    "scores = np.array(scores).reshape(len(m_depth), len(n_est))\n",
    "fig = plt.figure()\n",
    "ax = plt.subplot(111)\n",
    "for ind, i in enumerate(m_depth):\n",
    "    plt.plot(n_est, scores[ind], '-o', label='n estimator.' + str(i),)\n",
    "    \n",
    "ax.legend(loc='center left', bbox_to_anchor=(1, 0.5))\n",
    "plt.xlabel('Mean score')\n",
    "plt.ylabel('Max depth')\n",
    "plt.grid(True)\n",
    "plt.show()\n",
    "# savefig('rf_1')"
   ]
  },
  {
   "cell_type": "code",
   "execution_count": 160,
   "metadata": {},
   "outputs": [
    {
     "data": {
      "text/plain": [
       "RandomForestRegressor(bootstrap=True, criterion='mse', max_depth=14,\n",
       "           max_features='sqrt', max_leaf_nodes=None,\n",
       "           min_impurity_decrease=0.0, min_impurity_split=None,\n",
       "           min_samples_leaf=1, min_samples_split=2,\n",
       "           min_weight_fraction_leaf=0.0, n_estimators=55, n_jobs=None,\n",
       "           oob_score=False, random_state=2, verbose=0, warm_start=False)"
      ]
     },
     "execution_count": 160,
     "metadata": {},
     "output_type": "execute_result"
    }
   ],
   "source": [
    "# add both training and validation data together as the new training data\n",
    "rf = RandomForestRegressor(random_state=2, max_features = 'sqrt', max_depth= 14, n_estimators=55)\n",
    "rf.fit(model_train_x, model_train_y)"
   ]
  },
  {
   "cell_type": "markdown",
   "metadata": {},
   "source": [
    "The best rf model have n_estimator = 14, and max_depth = 55."
   ]
  },
  {
   "cell_type": "markdown",
   "metadata": {},
   "source": [
    "# Part 4: Model Evaluation\n",
    "Test data is the reserved 15% of the whole dataset, and has never been seen by the above models."
   ]
  },
  {
   "cell_type": "markdown",
   "metadata": {},
   "source": [
    "## 4.1 Lasso test with linear features (lasso_f)"
   ]
  },
  {
   "cell_type": "code",
   "execution_count": 162,
   "metadata": {},
   "outputs": [
    {
     "name": "stdout",
     "output_type": "stream",
     "text": [
      "lasso_f score:  0.09954927178753703\n",
      "Mean square error of lasso_f:  238953191.99910036\n",
      "Root mean squared error of lasso_f: 15458.110880670392\n"
     ]
    }
   ],
   "source": [
    "# Lasso_f test (with linear features)\n",
    "\n",
    "lasso_f_score = lasso_f.score(model_test_x, model_test_y)\n",
    "pred_y = lasso_f.predict(model_test_x)\n",
    "\n",
    "# The mean squared error and root mean square error\n",
    "MSE_lasso_f = mean_squared_error(model_test_y, pred_y)\n",
    "RMSE_lasso_f = sqrt(mean_squared_error(model_test_y, pred_y))\n",
    "\n",
    "print('lasso_f score: ', lasso_f_score)\n",
    "print('Mean square error of lasso_f: ', MSE_lasso_f)\n",
    "print('Root mean squared error of lasso_f:', RMSE_lasso_f)\n",
    "# print ('Coefficients of lasso_f: ', lasso_f.coef_)"
   ]
  },
  {
   "cell_type": "markdown",
   "metadata": {},
   "source": [
    "## 4.2 Lasso test with polynomial features (lasso_fp)"
   ]
  },
  {
   "cell_type": "code",
   "execution_count": 164,
   "metadata": {},
   "outputs": [
    {
     "name": "stdout",
     "output_type": "stream",
     "text": [
      "lasso_fp score:  -0.08392274794825849\n",
      "Mean square error of lasso_fp:  287641280.5138624\n",
      "Root mean squared error of lasso_fp: 16959.990581184364\n"
     ]
    }
   ],
   "source": [
    "# Lasso_fp test (with polynomial features)\n",
    "model_test_xp = poly.fit_transform(model_test_x)\n",
    "pred_y = lasso_fp.predict(model_test_xp)\n",
    "\n",
    "lasso_fp_score = lasso_fp.score(model_test_xp, model_test_y)\n",
    "MSE_lasso_fp = mean_squared_error(model_test_y, pred_y)\n",
    "RMSE_lasso_fp = sqrt(mean_squared_error(model_test_y, pred_y))\n",
    "\n",
    "print('lasso_fp score: ', lasso_fp_score)\n",
    "print('Mean square error of lasso_fp: ', MSE_lasso_fp)\n",
    "print('Root mean squared error of lasso_fp:', RMSE_lasso_fp)\n",
    "# print ('Coefficients of lasso_fp: ', lasso_fp.coef_)"
   ]
  },
  {
   "cell_type": "markdown",
   "metadata": {},
   "source": [
    "## 4.3 Ridge test with linear features (ridge_f)"
   ]
  },
  {
   "cell_type": "code",
   "execution_count": 165,
   "metadata": {},
   "outputs": [
    {
     "name": "stdout",
     "output_type": "stream",
     "text": [
      "ridge_f score:  0.11379706231843734\n",
      "Mean square error of ridge_f:  235172246.6129472\n",
      "Root mean squared error of ridge_f: 15335.326752728393\n"
     ]
    }
   ],
   "source": [
    "# ridge_f test (with linear features)\n",
    "\n",
    "ridge_f_score = ridge_f.score(model_test_x, model_test_y)\n",
    "pred_y = ridge_f.predict(model_test_x)\n",
    "\n",
    "# The mean squared error and root mean square error\n",
    "MSE_ridge_f = mean_squared_error(model_test_y, pred_y)\n",
    "RMSE_ridge_f = sqrt(mean_squared_error(model_test_y, pred_y))\n",
    "\n",
    "print('ridge_f score: ', ridge_f_score)\n",
    "print('Mean square error of ridge_f: ', MSE_ridge_f)\n",
    "print('Root mean squared error of ridge_f:', RMSE_ridge_f)\n",
    "# print ('Coefficients of ridge_f: ', ridge_f.coef_)"
   ]
  },
  {
   "cell_type": "markdown",
   "metadata": {},
   "source": [
    "## 4.4 Ridge test with polynomial features (ridge_fp)"
   ]
  },
  {
   "cell_type": "code",
   "execution_count": 166,
   "metadata": {},
   "outputs": [
    {
     "name": "stdout",
     "output_type": "stream",
     "text": [
      "ridge_fp score:  0.11379706231843734\n",
      "Mean square error of ridge_fp:  235172246.6129472\n",
      "Root mean squared error of ridge_fp: 15335.326752728393\n"
     ]
    }
   ],
   "source": [
    "# ridge_fp test (with polynomial features)\n",
    "model_test_xp = poly.fit_transform(model_test_x)\n",
    "\n",
    "ridge_fp_score = ridge_fp.score(model_test_xp, model_test_y)\n",
    "MSE_ridge_fp = mean_squared_error(model_test_y, pred_y)\n",
    "RMSE_ridge_fp = sqrt(mean_squared_error(model_test_y, pred_y))\n",
    "\n",
    "pred_y = ridge_fp.predict(model_test_xp)\n",
    "print('ridge_fp score: ', ridge_f_score)\n",
    "print('Mean square error of ridge_fp: ', MSE_ridge_fp)\n",
    "print('Root mean squared error of ridge_fp:', RMSE_ridge_fp)\n",
    "#print ('Coefficients of ridge_fp: ', ridge_fp.coef_)"
   ]
  },
  {
   "cell_type": "markdown",
   "metadata": {},
   "source": [
    "## 4.5 Random forest test (rf)"
   ]
  },
  {
   "cell_type": "code",
   "execution_count": 167,
   "metadata": {},
   "outputs": [
    {
     "name": "stdout",
     "output_type": "stream",
     "text": [
      "rf score:  0.5098577869271956\n",
      "Mean square error of rf:  130069356.02101581\n",
      "Root mean squared error of rf: 11404.79530815945\n"
     ]
    }
   ],
   "source": [
    "rf_score = rf.score(model_test_x, model_test_y)\n",
    "\n",
    "pred_y = rf.predict(model_test_x)\n",
    "MSE_rf = mean_squared_error(model_test_y, pred_y)\n",
    "RMSE_rf = sqrt(mean_squared_error(model_test_y, pred_y))\n",
    "\n",
    "# The mean squared error and root mean square error\n",
    "print('rf score: ', rf_score)\n",
    "print('Mean square error of rf: ', MSE_rf)\n",
    "print('Root mean squared error of rf:', RMSE_rf)\n",
    "# print('Coefficients: \\n', ridge_fp.coef_)"
   ]
  },
  {
   "cell_type": "markdown",
   "metadata": {},
   "source": [
    "## 4.6 Comparison of the 5 models\n",
    "\n",
    "Compared the max_score, mean squared error (MSE), and root mean squared error (RMSE) of 5 models. \n",
    "\n",
    "Random forest model rf returns the beset prediction accuracy."
   ]
  },
  {
   "cell_type": "code",
   "execution_count": 168,
   "metadata": {},
   "outputs": [
    {
     "name": "stderr",
     "output_type": "stream",
     "text": [
      "No handles with labels found to put in legend.\n"
     ]
    },
    {
     "data": {
      "image/png": "[encoded data removed]",
      "text/plain": [
       "<Figure size 432x288 with 1 Axes>"
      ]
     },
     "metadata": {
      "needs_background": "light"
     },
     "output_type": "display_data"
    },
    {
     "name": "stderr",
     "output_type": "stream",
     "text": [
      "No handles with labels found to put in legend.\n"
     ]
    },
    {
     "data": {
      "image/png": "[encoded data removed]",
      "text/plain": [
       "<Figure size 432x288 with 1 Axes>"
      ]
     },
     "metadata": {
      "needs_background": "light"
     },
     "output_type": "display_data"
    },
    {
     "name": "stderr",
     "output_type": "stream",
     "text": [
      "No handles with labels found to put in legend.\n"
     ]
    },
    {
     "data": {
      "image/png": "[encoded data removed]",
      "text/plain": [
       "<Figure size 432x288 with 1 Axes>"
      ]
     },
     "metadata": {
      "needs_background": "light"
     },
     "output_type": "display_data"
    }
   ],
   "source": [
    "lst_score = [lasso_f_score, lasso_fp_score, ridge_f_score, ridge_fp_score, rf_score]\n",
    "MSE_lst =  [MSE_lasso_f, MSE_lasso_fp, MSE_ridge_f, MSE_ridge_fp, MSE_rf]\n",
    "RMSE_lst =  [RMSE_lasso_f, RMSE_lasso_fp, RMSE_ridge_f, RMSE_ridge_fp, RMSE_rf]\n",
    "model_lst = ['Lasso_linear','Lasso poly', 'Ridge linear', 'Ridge poly', 'Random forest']\n",
    "\n",
    "plt.figure(1)\n",
    "plt.plot(model_lst, lst_score, 'ro')\n",
    "plt.legend(loc = 9)\n",
    "plt.legend(['r-squre / score'])\n",
    "plt.xlabel('model names',fontsize =16)\n",
    "plt.ylabel('score / r square', fontsize =16)\n",
    "plt.grid(True)\n",
    "plt.show()\n",
    "\n",
    "plt.figure(2)\n",
    "plt.plot(model_lst, MSE_lst, 'g^')\n",
    "plt.legend(loc = 9)\n",
    "plt.legend(['mean square error (MSE)'])\n",
    "plt.xlabel('model names', fontsize =16)\n",
    "plt.ylabel('mean square error', fontsize =16)\n",
    "plt.grid(True)\n",
    "plt.show()\n",
    "\n",
    "plt.figure(3)\n",
    "plt.plot(model_lst, RMSE_lst, 'bs')\n",
    "plt.legend(loc = 9)\n",
    "plt.legend(['root mean square error (RMSE)'])\n",
    "plt.xlabel('model names', fontsize =16)\n",
    "plt.ylabel('root mean square error', fontsize =16)\n",
    "plt.grid(True)\n",
    "plt.show()"
   ]
  },
  {
   "cell_type": "markdown",
   "metadata": {},
   "source": []
  },
  {
   "cell_type": "markdown",
   "metadata": {},
   "source": [
    "## 5. Feature importance\n",
    "Random forest(RF) shows the best prediction accuracy. Therefore, the feature importance will be extracted from the RF model."
   ]
  },
  {
   "cell_type": "markdown",
   "metadata": {},
   "source": [
    "Compute the standard deviation along the specified axis\n",
    "np.std() : https://docs.scipy.org/doc/numpy/reference/generated/numpy.std.html\n",
    "\n",
    "Returns the indices that would sort an array\n",
    "np.argsort() : https://docs.scipy.org/doc/numpy/reference/generated/numpy.argsort.html\n",
    "\n"
   ]
  },
  {
   "cell_type": "code",
   "execution_count": 169,
   "metadata": {},
   "outputs": [
    {
     "name": "stdout",
     "output_type": "stream",
     "text": [
      "Feature importance ranking:\n",
      "1. feature 2 weighted_categorical_position (0.153114)\n",
      "2. feature 0 weighted_horizontal_poition (0.125979)\n",
      "3. feature 1 imdb_votes (0.122217)\n",
      "4. feature 7 budget (0.058824)\n",
      "5. feature 8 boxoffice (0.056730)\n",
      "6. feature 3 imdb_rating (0.055224)\n",
      "7. feature 4 duration_in_mins (0.054734)\n",
      "8. feature 6 metacritic_score (0.042676)\n",
      "9. feature 9 star_category (0.039899)\n",
      "10. feature 5 lionsgate (0.032440)\n",
      "11. feature 11 mgm (0.027291)\n",
      "12. feature 53 other (0.025557)\n",
      "13. feature 10 paramount (0.020731)\n",
      "14. feature 42 G (0.017618)\n",
      "15. feature 28 NC-17 (0.012257)\n",
      "16. feature 18 NotRated (0.011334)\n",
      "17. feature 27 PG (0.010325)\n",
      "18. feature 49 PG-13 (0.007859)\n",
      "19. feature 52 R (0.007672)\n",
      "20. feature 23 BAFTA (0.007548)\n",
      "21. feature 30 Golden Globe (0.006129)\n",
      "22. feature 15 Oscar (0.005517)\n",
      "23. feature 29 no award (0.005429)\n",
      "24. feature 51 other award (0.005089)\n",
      "25. feature 17 Action (0.005000)\n",
      "26. feature 50 Adventure (0.004992)\n",
      "27. feature 24 Animation (0.004810)\n",
      "28. feature 20 Comedy (0.004593)\n",
      "29. feature 25 Crime (0.004481)\n",
      "30. feature 22 Documentary (0.004423)\n",
      "31. feature 44 Drama (0.004416)\n",
      "32. feature 47 Fantasy (0.004400)\n",
      "33. feature 35 Foreign/International (0.004393)\n",
      "34. feature 48 Horror (0.004375)\n",
      "35. feature 33 Independent (0.003766)\n",
      "36. feature 39 Kids & Family (0.003637)\n",
      "37. feature 43 Music (0.003517)\n",
      "38. feature 21 Musicals (0.003489)\n",
      "39. feature 38 Mystery (0.003154)\n",
      "40. feature 12 Romance (0.002994)\n",
      "41. feature 54 Sci-Fi (0.002889)\n",
      "42. feature 16 Sport (0.002814)\n",
      "43. feature 26 Thriller (0.002650)\n",
      "44. feature 36 War (0.002333)\n",
      "45. feature 40 Western (0.002305)\n",
      "46. feature 46 Misc_gen (0.002291)\n",
      "47. feature 41 1916-1974 (0.001740)\n",
      "48. feature 31 1974-1991 (0.001313)\n",
      "49. feature 55 1991-2001 (0.000945)\n",
      "50. feature 37 2001-2006 (0.000642)\n",
      "51. feature 34 2006-2008 (0.000609)\n",
      "52. feature 14 2008-2010 (0.000422)\n",
      "53. feature 13 2010-2012 (0.000219)\n",
      "54. feature 32 2012-2013 (0.000096)\n",
      "55. feature 19 2013-2014 (0.000078)\n",
      "56. feature 45 2014-2017 (0.000020)\n"
     ]
    },
    {
     "data": {
      "image/png": "[encoded data removed]",
      "text/plain": [
       "<Figure size 432x288 with 1 Axes>"
      ]
     },
     "metadata": {
      "needs_background": "light"
     },
     "output_type": "display_data"
    }
   ],
   "source": [
    "importances = rf.feature_importances_\n",
    "std = np.std([tree.feature_importances_ for tree in rf.estimators_], axis=0)\n",
    "indices = np.argsort(importances)[::-1]\n",
    "feature_name = model_test_x.columns.get_values()\n",
    "\n",
    "# Print the feature ranking\n",
    "print(\"Feature importance ranking:\")\n",
    "\n",
    "for f in range(model_test_x.shape[1]):\n",
    "    print(\"%d. feature %d %s (%f)\" % (f + 1, indices[f],  feature_name[f], importances[indices[f]]))\n",
    "    \n",
    "plt.figure(1)\n",
    "plt.bar(feature_name[:11], importances[indices[:11]])\n",
    "plt.xticks(rotation=90)\n",
    "plt.show()"
   ]
  },
  {
   "cell_type": "code",
   "execution_count": null,
   "metadata": {},
   "outputs": [],
   "source": []
  },
  {
   "cell_type": "code",
   "execution_count": null,
   "metadata": {},
   "outputs": [],
   "source": []
  },
  {
   "cell_type": "code",
   "execution_count": null,
   "metadata": {},
   "outputs": [],
   "source": []
  },
  {
   "cell_type": "code",
   "execution_count": null,
   "metadata": {},
   "outputs": [],
   "source": []
  },
  {
   "cell_type": "code",
   "execution_count": null,
   "metadata": {},
   "outputs": [],
   "source": []
  },
  {
   "cell_type": "code",
   "execution_count": null,
   "metadata": {},
   "outputs": [],
   "source": []
  },
  {
   "cell_type": "code",
   "execution_count": null,
   "metadata": {},
   "outputs": [],
   "source": []
  },
  {
   "cell_type": "code",
   "execution_count": null,
   "metadata": {},
   "outputs": [],
   "source": []
  },
  {
   "cell_type": "code",
   "execution_count": null,
   "metadata": {},
   "outputs": [],
   "source": []
  },
  {
   "cell_type": "code",
   "execution_count": null,
   "metadata": {},
   "outputs": [],
   "source": []
  },
  {
   "cell_type": "code",
   "execution_count": null,
   "metadata": {},
   "outputs": [],
   "source": []
  },
  {
   "cell_type": "code",
   "execution_count": null,
   "metadata": {},
   "outputs": [],
   "source": []
  },
  {
   "cell_type": "code",
   "execution_count": null,
   "metadata": {},
   "outputs": [],
   "source": []
  },
  {
   "cell_type": "code",
   "execution_count": null,
   "metadata": {},
   "outputs": [],
   "source": []
  },
  {
   "cell_type": "code",
   "execution_count": null,
   "metadata": {},
   "outputs": [],
   "source": []
  },
  {
   "cell_type": "code",
   "execution_count": null,
   "metadata": {},
   "outputs": [],
   "source": []
  },
  {
   "cell_type": "code",
   "execution_count": null,
   "metadata": {},
   "outputs": [],
   "source": []
  },
  {
   "cell_type": "code",
   "execution_count": null,
   "metadata": {},
   "outputs": [],
   "source": []
  }
 ],
 "metadata": {
  "kernelspec": {
   "display_name": "Python 3",
   "language": "python",
   "name": "python3"
  },
  "language_info": {
   "codemirror_mode": {
    "name": "ipython",
    "version": 3
   },
   "file_extension": ".py",
   "mimetype": "text/x-python",
   "name": "python",
   "nbconvert_exporter": "python",
   "pygments_lexer": "ipython3",
   "version": "3.7.2"
  }
 },
 "nbformat": 4,
 "nbformat_minor": 2
}
